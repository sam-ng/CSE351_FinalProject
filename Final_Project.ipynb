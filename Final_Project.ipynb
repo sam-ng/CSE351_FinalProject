{
  "nbformat": 4,
  "nbformat_minor": 0,
  "metadata": {
    "kernelspec": {
      "display_name": "Python 3",
      "language": "python",
      "name": "python3"
    },
    "language_info": {
      "codemirror_mode": {
        "name": "ipython",
        "version": 3
      },
      "file_extension": ".py",
      "mimetype": "text/x-python",
      "name": "python",
      "nbconvert_exporter": "python",
      "pygments_lexer": "ipython3",
      "version": "3.7.6"
    },
    "colab": {
      "name": "Final Project.ipynb",
      "provenance": [],
      "collapsed_sections": []
    }
  },
  "cells": [
    {
      "cell_type": "markdown",
      "metadata": {
        "id": "a-n_Vdgf5LG6"
      },
      "source": [
        "# EDA"
      ]
    },
    {
      "cell_type": "markdown",
      "metadata": {
        "id": "2chrzyC3EhYu"
      },
      "source": [
        "## Import Statements"
      ]
    },
    {
      "cell_type": "code",
      "metadata": {
        "id": "8P6MTNX5EFGg"
      },
      "source": [
        "import pandas as pd\n",
        "import matplotlib.pyplot as plt #for plotting data\n",
        "import numpy as np\n",
        "\n",
        "from sklearn.linear_model import LinearRegression\n",
        "from sklearn.neighbors import KNeighborsRegressor\n",
        "from sklearn.ensemble import RandomForestRegressor\n",
        "from sklearn.metrics import mean_absolute_error\n",
        "from sklearn.metrics import mean_squared_error\n",
        "\n",
        "#for colab\n",
        "#import io\n",
        "#from google.colab import files\n",
        "#data_to_load = files.upload()"
      ],
      "execution_count": null,
      "outputs": []
    },
    {
      "cell_type": "markdown",
      "metadata": {
        "id": "asADnXMREtiF"
      },
      "source": [
        "## Reading csv files"
      ]
    },
    {
      "cell_type": "code",
      "metadata": {
        "id": "4fwh-jK-5LG8"
      },
      "source": [
        "#for jupyter and colab if files have been uploaded\n",
        "five = pd.read_csv(\"2015.csv\")\n",
        "six = pd.read_csv(\"2016.csv\")\n",
        "seven = pd.read_csv(\"2017.csv\")\n",
        "eight = pd.read_csv(\"2018.csv\")\n",
        "nine = pd.read_csv(\"2019.csv\")\n",
        "\n",
        "#for colab\n",
        "#five = pd.read_csv(io.BytesIO(data_to_load['2015.csv']))\n",
        "#six = pd.read_csv(io.BytesIO(data_to_load['2016.csv']))\n",
        "#seven = pd.read_csv(io.BytesIO(data_to_load['2017.csv']))\n",
        "#eight = pd.read_csv(io.BytesIO(data_to_load['2018.csv']))\n",
        "#nine = pd.read_csv(io.BytesIO(data_to_load['2019.csv']))"
      ],
      "execution_count": null,
      "outputs": []
    },
    {
      "cell_type": "markdown",
      "metadata": {
        "id": "YAz_KcLLFD_V"
      },
      "source": [
        "## Merging and Cleaning Data"
      ]
    },
    {
      "cell_type": "code",
      "metadata": {
        "id": "lLOH-ekn5LHH",
        "colab": {
          "base_uri": "https://localhost:8080/",
          "height": 521
        },
        "outputId": "1127c636-3305-4d6b-bf2b-6da9b9c4d75d"
      },
      "source": [
        "# Run this cell only once\n",
        "\n",
        "five.sort_values(\"Country\", inplace=True, ignore_index=True) # Sort data alphabetically by country\n",
        "five = five.add_suffix(\" 2015\") # Append year to column names\n",
        "\n",
        "total = five.copy()\n",
        "total.rename(columns={\"Country 2015\": \"Country\"}, inplace=True)\n",
        "total.rename(columns={\"Region 2015\": \"Region\"}, inplace=True)\n",
        "total"
      ],
      "execution_count": null,
      "outputs": [
        {
          "output_type": "execute_result",
          "data": {
            "text/html": [
              "<div>\n",
              "<style scoped>\n",
              "    .dataframe tbody tr th:only-of-type {\n",
              "        vertical-align: middle;\n",
              "    }\n",
              "\n",
              "    .dataframe tbody tr th {\n",
              "        vertical-align: top;\n",
              "    }\n",
              "\n",
              "    .dataframe thead th {\n",
              "        text-align: right;\n",
              "    }\n",
              "</style>\n",
              "<table border=\"1\" class=\"dataframe\">\n",
              "  <thead>\n",
              "    <tr style=\"text-align: right;\">\n",
              "      <th></th>\n",
              "      <th>Country</th>\n",
              "      <th>Region</th>\n",
              "      <th>Happiness Rank 2015</th>\n",
              "      <th>Happiness Score 2015</th>\n",
              "      <th>Standard Error 2015</th>\n",
              "      <th>Economy (GDP per Capita) 2015</th>\n",
              "      <th>Family 2015</th>\n",
              "      <th>Health (Life Expectancy) 2015</th>\n",
              "      <th>Freedom 2015</th>\n",
              "      <th>Trust (Government Corruption) 2015</th>\n",
              "      <th>Generosity 2015</th>\n",
              "      <th>Dystopia Residual 2015</th>\n",
              "    </tr>\n",
              "  </thead>\n",
              "  <tbody>\n",
              "    <tr>\n",
              "      <th>0</th>\n",
              "      <td>Afghanistan</td>\n",
              "      <td>Southern Asia</td>\n",
              "      <td>153</td>\n",
              "      <td>3.575</td>\n",
              "      <td>0.03084</td>\n",
              "      <td>0.31982</td>\n",
              "      <td>0.30285</td>\n",
              "      <td>0.30335</td>\n",
              "      <td>0.23414</td>\n",
              "      <td>0.09719</td>\n",
              "      <td>0.36510</td>\n",
              "      <td>1.95210</td>\n",
              "    </tr>\n",
              "    <tr>\n",
              "      <th>1</th>\n",
              "      <td>Albania</td>\n",
              "      <td>Central and Eastern Europe</td>\n",
              "      <td>95</td>\n",
              "      <td>4.959</td>\n",
              "      <td>0.05013</td>\n",
              "      <td>0.87867</td>\n",
              "      <td>0.80434</td>\n",
              "      <td>0.81325</td>\n",
              "      <td>0.35733</td>\n",
              "      <td>0.06413</td>\n",
              "      <td>0.14272</td>\n",
              "      <td>1.89894</td>\n",
              "    </tr>\n",
              "    <tr>\n",
              "      <th>2</th>\n",
              "      <td>Algeria</td>\n",
              "      <td>Middle East and Northern Africa</td>\n",
              "      <td>68</td>\n",
              "      <td>5.605</td>\n",
              "      <td>0.05099</td>\n",
              "      <td>0.93929</td>\n",
              "      <td>1.07772</td>\n",
              "      <td>0.61766</td>\n",
              "      <td>0.28579</td>\n",
              "      <td>0.17383</td>\n",
              "      <td>0.07822</td>\n",
              "      <td>2.43209</td>\n",
              "    </tr>\n",
              "    <tr>\n",
              "      <th>3</th>\n",
              "      <td>Angola</td>\n",
              "      <td>Sub-Saharan Africa</td>\n",
              "      <td>137</td>\n",
              "      <td>4.033</td>\n",
              "      <td>0.04758</td>\n",
              "      <td>0.75778</td>\n",
              "      <td>0.86040</td>\n",
              "      <td>0.16683</td>\n",
              "      <td>0.10384</td>\n",
              "      <td>0.07122</td>\n",
              "      <td>0.12344</td>\n",
              "      <td>1.94939</td>\n",
              "    </tr>\n",
              "    <tr>\n",
              "      <th>4</th>\n",
              "      <td>Argentina</td>\n",
              "      <td>Latin America and Caribbean</td>\n",
              "      <td>30</td>\n",
              "      <td>6.574</td>\n",
              "      <td>0.04612</td>\n",
              "      <td>1.05351</td>\n",
              "      <td>1.24823</td>\n",
              "      <td>0.78723</td>\n",
              "      <td>0.44974</td>\n",
              "      <td>0.08484</td>\n",
              "      <td>0.11451</td>\n",
              "      <td>2.83600</td>\n",
              "    </tr>\n",
              "    <tr>\n",
              "      <th>...</th>\n",
              "      <td>...</td>\n",
              "      <td>...</td>\n",
              "      <td>...</td>\n",
              "      <td>...</td>\n",
              "      <td>...</td>\n",
              "      <td>...</td>\n",
              "      <td>...</td>\n",
              "      <td>...</td>\n",
              "      <td>...</td>\n",
              "      <td>...</td>\n",
              "      <td>...</td>\n",
              "      <td>...</td>\n",
              "    </tr>\n",
              "    <tr>\n",
              "      <th>153</th>\n",
              "      <td>Venezuela</td>\n",
              "      <td>Latin America and Caribbean</td>\n",
              "      <td>23</td>\n",
              "      <td>6.810</td>\n",
              "      <td>0.06476</td>\n",
              "      <td>1.04424</td>\n",
              "      <td>1.25596</td>\n",
              "      <td>0.72052</td>\n",
              "      <td>0.42908</td>\n",
              "      <td>0.11069</td>\n",
              "      <td>0.05841</td>\n",
              "      <td>3.19131</td>\n",
              "    </tr>\n",
              "    <tr>\n",
              "      <th>154</th>\n",
              "      <td>Vietnam</td>\n",
              "      <td>Southeastern Asia</td>\n",
              "      <td>75</td>\n",
              "      <td>5.360</td>\n",
              "      <td>0.03107</td>\n",
              "      <td>0.63216</td>\n",
              "      <td>0.91226</td>\n",
              "      <td>0.74676</td>\n",
              "      <td>0.59444</td>\n",
              "      <td>0.10441</td>\n",
              "      <td>0.16860</td>\n",
              "      <td>2.20173</td>\n",
              "    </tr>\n",
              "    <tr>\n",
              "      <th>155</th>\n",
              "      <td>Yemen</td>\n",
              "      <td>Middle East and Northern Africa</td>\n",
              "      <td>136</td>\n",
              "      <td>4.077</td>\n",
              "      <td>0.04367</td>\n",
              "      <td>0.54649</td>\n",
              "      <td>0.68093</td>\n",
              "      <td>0.40064</td>\n",
              "      <td>0.35571</td>\n",
              "      <td>0.07854</td>\n",
              "      <td>0.09131</td>\n",
              "      <td>1.92313</td>\n",
              "    </tr>\n",
              "    <tr>\n",
              "      <th>156</th>\n",
              "      <td>Zambia</td>\n",
              "      <td>Sub-Saharan Africa</td>\n",
              "      <td>85</td>\n",
              "      <td>5.129</td>\n",
              "      <td>0.06988</td>\n",
              "      <td>0.47038</td>\n",
              "      <td>0.91612</td>\n",
              "      <td>0.29924</td>\n",
              "      <td>0.48827</td>\n",
              "      <td>0.12468</td>\n",
              "      <td>0.19591</td>\n",
              "      <td>2.63430</td>\n",
              "    </tr>\n",
              "    <tr>\n",
              "      <th>157</th>\n",
              "      <td>Zimbabwe</td>\n",
              "      <td>Sub-Saharan Africa</td>\n",
              "      <td>115</td>\n",
              "      <td>4.610</td>\n",
              "      <td>0.04290</td>\n",
              "      <td>0.27100</td>\n",
              "      <td>1.03276</td>\n",
              "      <td>0.33475</td>\n",
              "      <td>0.25861</td>\n",
              "      <td>0.08079</td>\n",
              "      <td>0.18987</td>\n",
              "      <td>2.44191</td>\n",
              "    </tr>\n",
              "  </tbody>\n",
              "</table>\n",
              "<p>158 rows × 12 columns</p>\n",
              "</div>"
            ],
            "text/plain": [
              "         Country  ... Dystopia Residual 2015\n",
              "0    Afghanistan  ...                1.95210\n",
              "1        Albania  ...                1.89894\n",
              "2        Algeria  ...                2.43209\n",
              "3         Angola  ...                1.94939\n",
              "4      Argentina  ...                2.83600\n",
              "..           ...  ...                    ...\n",
              "153    Venezuela  ...                3.19131\n",
              "154      Vietnam  ...                2.20173\n",
              "155        Yemen  ...                1.92313\n",
              "156       Zambia  ...                2.63430\n",
              "157     Zimbabwe  ...                2.44191\n",
              "\n",
              "[158 rows x 12 columns]"
            ]
          },
          "metadata": {
            "tags": []
          },
          "execution_count": 3
        }
      ]
    },
    {
      "cell_type": "markdown",
      "metadata": {
        "id": "juYicAso5LHO"
      },
      "source": [
        "Here we appended \"2015\" to each of the column names in the 2015 dataframe. We will be merging the other years' data sets into `total`, also with their respective years appended to their statistics. The index will be countries, as that stays constant."
      ]
    },
    {
      "cell_type": "code",
      "metadata": {
        "id": "dffIAH7rnJAK",
        "colab": {
          "base_uri": "https://localhost:8080/",
          "height": 1000
        },
        "outputId": "046d7e7d-650c-45d1-ad50-343bbfc4cd29"
      },
      "source": [
        "# Run this cell only once\n",
        "\n",
        "# After analyzing the datasets, we found that out of all the countries, Hong Kong and Somaliland Region were both renamed.\n",
        "for i in total.index:\n",
        "  if total[\"Country\"][i] == \"Somaliland region\":\n",
        "    total.at[i, \"Country\"] = \"Somaliland Region\"\n",
        "six.sort_values(\"Country\", inplace=True, ignore_index=True) # Sort data alphabetically by country\n",
        "six = six.add_suffix(\" 2016\") # Append year to column names\n",
        "total = pd.merge(total, six, left_on=\"Country\", right_on=\"Country 2016\", how=\"outer\") # Merge country columns, keeping column name of total dataframe\n",
        "\n",
        "print(\"Countries added in 2016:\")\n",
        "for i in total.index: # Loops through each country for NaN values that may occur from new countries merged from the 2016 dataset\n",
        "  if total[\"Country\"][i] != total[\"Country\"][i]:\n",
        "    total.at[i, \"Country\"] = total[\"Country 2016\"][i] # Sets NaN values to proper country names\n",
        "    total.at[i, \"Region\"] = total[\"Region 2016\"][i] # Sets NaN values to proper region names\n",
        "    print(total[\"Country\"][i])\n",
        "\n",
        "total.drop([\"Country 2016\", \"Region 2016\"], axis=1, inplace=True) # Drop duplicate country and region columns\n",
        "\n",
        "for i in seven.index:\n",
        "  if seven[\"Country\"][i] == \"Hong Kong S.A.R., China\":\n",
        "    seven.at[i, \"Country\"] = \"Hong Kong\"\n",
        "seven.sort_values(\"Country\", inplace=True, ignore_index=True) # Sort data alphabetically by country\n",
        "seven = seven.add_suffix(\" 2017\") # Append year to column names\n",
        "total = pd.merge(total, seven, left_on=\"Country\", right_on=\"Country 2017\", how=\"outer\") # Merge country columns, keeping column name of total dataframe\n",
        "\n",
        "print(\"\\n\")\n",
        "print(\"Countries added in 2017:\")\n",
        "for i in total.index: # Loops through each country for NaN values that may occur from new countries merged from the 2017 dataset\n",
        "  if total[\"Country\"][i] != total[\"Country\"][i]:\n",
        "    total.at[i, \"Country\"] = total[\"Country 2017\"][i] # Sets NaN values to proper country names\n",
        "    print(total[\"Country\"][i])\n",
        "\n",
        "total.drop([\"Country 2017\"], axis=1, inplace=True) # Drop duplicate country column\n",
        "\n",
        "eight.sort_values(\"Country or region\", inplace=True, ignore_index=True) # Sort data alphabetically by country\n",
        "eight = eight.add_suffix(\" 2018\") # Append year to column names\n",
        "total = pd.merge(total, eight, left_on=\"Country\", right_on=\"Country or region 2018\", how=\"outer\") # Merge country columns, keeping column name of total dataframe\n",
        "\n",
        "print(\"\\n\")\n",
        "print(\"Countries added in 2018:\")\n",
        "for i in total.index: # Loops through each country for NaN values that may occur from new countries merged from the 2018 dataset\n",
        "  if total[\"Country\"][i] != total[\"Country\"][i]:\n",
        "    total.at[i, \"Country\"] = total[\"Country or region 2018\"][i] # Sets NaN values to proper country names\n",
        "    print(total[\"Country\"][i])\n",
        "\n",
        "total.drop([\"Country or region 2018\"], axis=1, inplace=True) # Drop duplicate country or region column\n",
        "\n",
        "nine.sort_values(\"Country or region\", inplace=True, ignore_index=True) # Sort data alphabetically by country\n",
        "nine = nine.add_suffix(\" 2019\") # Append year to column names\n",
        "\n",
        "# Drop duplicate country columns\n",
        "total.sort_values(\"Country\", inplace=True, ignore_index=True)\n",
        "print(\"\\n\")\n",
        "print(\"Total Countries:\")\n",
        "for i in total.index:\n",
        "  print(total[\"Country\"][i])"
      ],
      "execution_count": null,
      "outputs": [
        {
          "output_type": "stream",
          "text": [
            "Countries added in 2016:\n",
            "Belize\n",
            "Namibia\n",
            "Puerto Rico\n",
            "Somalia\n",
            "South Sudan\n",
            "\n",
            "\n",
            "Countries added in 2017:\n",
            "Taiwan Province of China\n",
            "\n",
            "\n",
            "Countries added in 2018:\n",
            "Northern Cyprus\n",
            "Trinidad & Tobago\n",
            "\n",
            "\n",
            "Total Countries:\n",
            "Afghanistan\n",
            "Albania\n",
            "Algeria\n",
            "Angola\n",
            "Argentina\n",
            "Armenia\n",
            "Australia\n",
            "Austria\n",
            "Azerbaijan\n",
            "Bahrain\n",
            "Bangladesh\n",
            "Belarus\n",
            "Belgium\n",
            "Belize\n",
            "Benin\n",
            "Bhutan\n",
            "Bolivia\n",
            "Bosnia and Herzegovina\n",
            "Botswana\n",
            "Brazil\n",
            "Bulgaria\n",
            "Burkina Faso\n",
            "Burundi\n",
            "Cambodia\n",
            "Cameroon\n",
            "Canada\n",
            "Central African Republic\n",
            "Chad\n",
            "Chile\n",
            "China\n",
            "Colombia\n",
            "Comoros\n",
            "Congo (Brazzaville)\n",
            "Congo (Kinshasa)\n",
            "Costa Rica\n",
            "Croatia\n",
            "Cyprus\n",
            "Czech Republic\n",
            "Denmark\n",
            "Djibouti\n",
            "Dominican Republic\n",
            "Ecuador\n",
            "Egypt\n",
            "El Salvador\n",
            "Estonia\n",
            "Ethiopia\n",
            "Finland\n",
            "France\n",
            "Gabon\n",
            "Georgia\n",
            "Germany\n",
            "Ghana\n",
            "Greece\n",
            "Guatemala\n",
            "Guinea\n",
            "Haiti\n",
            "Honduras\n",
            "Hong Kong\n",
            "Hungary\n",
            "Iceland\n",
            "India\n",
            "Indonesia\n",
            "Iran\n",
            "Iraq\n",
            "Ireland\n",
            "Israel\n",
            "Italy\n",
            "Ivory Coast\n",
            "Jamaica\n",
            "Japan\n",
            "Jordan\n",
            "Kazakhstan\n",
            "Kenya\n",
            "Kosovo\n",
            "Kuwait\n",
            "Kyrgyzstan\n",
            "Laos\n",
            "Latvia\n",
            "Lebanon\n",
            "Lesotho\n",
            "Liberia\n",
            "Libya\n",
            "Lithuania\n",
            "Luxembourg\n",
            "Macedonia\n",
            "Madagascar\n",
            "Malawi\n",
            "Malaysia\n",
            "Mali\n",
            "Malta\n",
            "Mauritania\n",
            "Mauritius\n",
            "Mexico\n",
            "Moldova\n",
            "Mongolia\n",
            "Montenegro\n",
            "Morocco\n",
            "Mozambique\n",
            "Myanmar\n",
            "Namibia\n",
            "Nepal\n",
            "Netherlands\n",
            "New Zealand\n",
            "Nicaragua\n",
            "Niger\n",
            "Nigeria\n",
            "North Cyprus\n",
            "Northern Cyprus\n",
            "Norway\n",
            "Oman\n",
            "Pakistan\n",
            "Palestinian Territories\n",
            "Panama\n",
            "Paraguay\n",
            "Peru\n",
            "Philippines\n",
            "Poland\n",
            "Portugal\n",
            "Puerto Rico\n",
            "Qatar\n",
            "Romania\n",
            "Russia\n",
            "Rwanda\n",
            "Saudi Arabia\n",
            "Senegal\n",
            "Serbia\n",
            "Sierra Leone\n",
            "Singapore\n",
            "Slovakia\n",
            "Slovenia\n",
            "Somalia\n",
            "Somaliland Region\n",
            "South Africa\n",
            "South Korea\n",
            "South Sudan\n",
            "Spain\n",
            "Sri Lanka\n",
            "Sudan\n",
            "Suriname\n",
            "Swaziland\n",
            "Sweden\n",
            "Switzerland\n",
            "Syria\n",
            "Taiwan\n",
            "Taiwan Province of China\n",
            "Tajikistan\n",
            "Tanzania\n",
            "Thailand\n",
            "Togo\n",
            "Trinidad & Tobago\n",
            "Trinidad and Tobago\n",
            "Tunisia\n",
            "Turkey\n",
            "Turkmenistan\n",
            "Uganda\n",
            "Ukraine\n",
            "United Arab Emirates\n",
            "United Kingdom\n",
            "United States\n",
            "Uruguay\n",
            "Uzbekistan\n",
            "Venezuela\n",
            "Vietnam\n",
            "Yemen\n",
            "Zambia\n",
            "Zimbabwe\n"
          ],
          "name": "stdout"
        }
      ]
    },
    {
      "cell_type": "code",
      "metadata": {
        "id": "fcSwYObeSHFn",
        "colab": {
          "base_uri": "https://localhost:8080/",
          "height": 762
        },
        "outputId": "159335db-d979-4b27-8228-03626d747595"
      },
      "source": [
        "total"
      ],
      "execution_count": null,
      "outputs": [
        {
          "output_type": "execute_result",
          "data": {
            "text/html": [
              "<div>\n",
              "<style scoped>\n",
              "    .dataframe tbody tr th:only-of-type {\n",
              "        vertical-align: middle;\n",
              "    }\n",
              "\n",
              "    .dataframe tbody tr th {\n",
              "        vertical-align: top;\n",
              "    }\n",
              "\n",
              "    .dataframe thead th {\n",
              "        text-align: right;\n",
              "    }\n",
              "</style>\n",
              "<table border=\"1\" class=\"dataframe\">\n",
              "  <thead>\n",
              "    <tr style=\"text-align: right;\">\n",
              "      <th></th>\n",
              "      <th>Country</th>\n",
              "      <th>Region</th>\n",
              "      <th>Happiness Rank 2015</th>\n",
              "      <th>Happiness Score 2015</th>\n",
              "      <th>Standard Error 2015</th>\n",
              "      <th>Economy (GDP per Capita) 2015</th>\n",
              "      <th>Family 2015</th>\n",
              "      <th>Health (Life Expectancy) 2015</th>\n",
              "      <th>Freedom 2015</th>\n",
              "      <th>Trust (Government Corruption) 2015</th>\n",
              "      <th>Generosity 2015</th>\n",
              "      <th>Dystopia Residual 2015</th>\n",
              "      <th>Happiness Rank 2016</th>\n",
              "      <th>Happiness Score 2016</th>\n",
              "      <th>Lower Confidence Interval 2016</th>\n",
              "      <th>Upper Confidence Interval 2016</th>\n",
              "      <th>Economy (GDP per Capita) 2016</th>\n",
              "      <th>Family 2016</th>\n",
              "      <th>Health (Life Expectancy) 2016</th>\n",
              "      <th>Freedom 2016</th>\n",
              "      <th>Trust (Government Corruption) 2016</th>\n",
              "      <th>Generosity 2016</th>\n",
              "      <th>Dystopia Residual 2016</th>\n",
              "      <th>Happiness.Rank 2017</th>\n",
              "      <th>Happiness.Score 2017</th>\n",
              "      <th>Whisker.high 2017</th>\n",
              "      <th>Whisker.low 2017</th>\n",
              "      <th>Economy..GDP.per.Capita. 2017</th>\n",
              "      <th>Family 2017</th>\n",
              "      <th>Health..Life.Expectancy. 2017</th>\n",
              "      <th>Freedom 2017</th>\n",
              "      <th>Generosity 2017</th>\n",
              "      <th>Trust..Government.Corruption. 2017</th>\n",
              "      <th>Dystopia.Residual 2017</th>\n",
              "      <th>Overall rank 2018</th>\n",
              "      <th>Score 2018</th>\n",
              "      <th>GDP per capita 2018</th>\n",
              "      <th>Social support 2018</th>\n",
              "      <th>Healthy life expectancy 2018</th>\n",
              "      <th>Freedom to make life choices 2018</th>\n",
              "      <th>Generosity 2018</th>\n",
              "      <th>Perceptions of corruption 2018</th>\n",
              "    </tr>\n",
              "  </thead>\n",
              "  <tbody>\n",
              "    <tr>\n",
              "      <th>0</th>\n",
              "      <td>Afghanistan</td>\n",
              "      <td>Southern Asia</td>\n",
              "      <td>153.0</td>\n",
              "      <td>3.575</td>\n",
              "      <td>0.03084</td>\n",
              "      <td>0.31982</td>\n",
              "      <td>0.30285</td>\n",
              "      <td>0.30335</td>\n",
              "      <td>0.23414</td>\n",
              "      <td>0.09719</td>\n",
              "      <td>0.36510</td>\n",
              "      <td>1.95210</td>\n",
              "      <td>154.0</td>\n",
              "      <td>3.360</td>\n",
              "      <td>3.288</td>\n",
              "      <td>3.432</td>\n",
              "      <td>0.38227</td>\n",
              "      <td>0.11037</td>\n",
              "      <td>0.17344</td>\n",
              "      <td>0.16430</td>\n",
              "      <td>0.07112</td>\n",
              "      <td>0.31268</td>\n",
              "      <td>2.14558</td>\n",
              "      <td>141.0</td>\n",
              "      <td>3.794</td>\n",
              "      <td>3.873661</td>\n",
              "      <td>3.714338</td>\n",
              "      <td>0.401477</td>\n",
              "      <td>0.581543</td>\n",
              "      <td>0.180747</td>\n",
              "      <td>0.106180</td>\n",
              "      <td>0.311871</td>\n",
              "      <td>0.061158</td>\n",
              "      <td>2.150801</td>\n",
              "      <td>145.0</td>\n",
              "      <td>3.632</td>\n",
              "      <td>0.332</td>\n",
              "      <td>0.537</td>\n",
              "      <td>0.255</td>\n",
              "      <td>0.085</td>\n",
              "      <td>0.191</td>\n",
              "      <td>0.036</td>\n",
              "    </tr>\n",
              "    <tr>\n",
              "      <th>1</th>\n",
              "      <td>Albania</td>\n",
              "      <td>Central and Eastern Europe</td>\n",
              "      <td>95.0</td>\n",
              "      <td>4.959</td>\n",
              "      <td>0.05013</td>\n",
              "      <td>0.87867</td>\n",
              "      <td>0.80434</td>\n",
              "      <td>0.81325</td>\n",
              "      <td>0.35733</td>\n",
              "      <td>0.06413</td>\n",
              "      <td>0.14272</td>\n",
              "      <td>1.89894</td>\n",
              "      <td>109.0</td>\n",
              "      <td>4.655</td>\n",
              "      <td>4.546</td>\n",
              "      <td>4.764</td>\n",
              "      <td>0.95530</td>\n",
              "      <td>0.50163</td>\n",
              "      <td>0.73007</td>\n",
              "      <td>0.31866</td>\n",
              "      <td>0.05301</td>\n",
              "      <td>0.16840</td>\n",
              "      <td>1.92816</td>\n",
              "      <td>109.0</td>\n",
              "      <td>4.644</td>\n",
              "      <td>4.752464</td>\n",
              "      <td>4.535536</td>\n",
              "      <td>0.996193</td>\n",
              "      <td>0.803685</td>\n",
              "      <td>0.731160</td>\n",
              "      <td>0.381499</td>\n",
              "      <td>0.201313</td>\n",
              "      <td>0.039864</td>\n",
              "      <td>1.490442</td>\n",
              "      <td>112.0</td>\n",
              "      <td>4.586</td>\n",
              "      <td>0.916</td>\n",
              "      <td>0.817</td>\n",
              "      <td>0.790</td>\n",
              "      <td>0.419</td>\n",
              "      <td>0.149</td>\n",
              "      <td>0.032</td>\n",
              "    </tr>\n",
              "    <tr>\n",
              "      <th>2</th>\n",
              "      <td>Algeria</td>\n",
              "      <td>Middle East and Northern Africa</td>\n",
              "      <td>68.0</td>\n",
              "      <td>5.605</td>\n",
              "      <td>0.05099</td>\n",
              "      <td>0.93929</td>\n",
              "      <td>1.07772</td>\n",
              "      <td>0.61766</td>\n",
              "      <td>0.28579</td>\n",
              "      <td>0.17383</td>\n",
              "      <td>0.07822</td>\n",
              "      <td>2.43209</td>\n",
              "      <td>38.0</td>\n",
              "      <td>6.355</td>\n",
              "      <td>6.227</td>\n",
              "      <td>6.483</td>\n",
              "      <td>1.05266</td>\n",
              "      <td>0.83309</td>\n",
              "      <td>0.61804</td>\n",
              "      <td>0.21006</td>\n",
              "      <td>0.16157</td>\n",
              "      <td>0.07044</td>\n",
              "      <td>3.40904</td>\n",
              "      <td>53.0</td>\n",
              "      <td>5.872</td>\n",
              "      <td>5.978286</td>\n",
              "      <td>5.765714</td>\n",
              "      <td>1.091864</td>\n",
              "      <td>1.146217</td>\n",
              "      <td>0.617585</td>\n",
              "      <td>0.233336</td>\n",
              "      <td>0.069437</td>\n",
              "      <td>0.146096</td>\n",
              "      <td>2.567604</td>\n",
              "      <td>84.0</td>\n",
              "      <td>5.295</td>\n",
              "      <td>0.979</td>\n",
              "      <td>1.154</td>\n",
              "      <td>0.687</td>\n",
              "      <td>0.077</td>\n",
              "      <td>0.055</td>\n",
              "      <td>0.135</td>\n",
              "    </tr>\n",
              "    <tr>\n",
              "      <th>3</th>\n",
              "      <td>Angola</td>\n",
              "      <td>Sub-Saharan Africa</td>\n",
              "      <td>137.0</td>\n",
              "      <td>4.033</td>\n",
              "      <td>0.04758</td>\n",
              "      <td>0.75778</td>\n",
              "      <td>0.86040</td>\n",
              "      <td>0.16683</td>\n",
              "      <td>0.10384</td>\n",
              "      <td>0.07122</td>\n",
              "      <td>0.12344</td>\n",
              "      <td>1.94939</td>\n",
              "      <td>141.0</td>\n",
              "      <td>3.866</td>\n",
              "      <td>3.753</td>\n",
              "      <td>3.979</td>\n",
              "      <td>0.84731</td>\n",
              "      <td>0.66366</td>\n",
              "      <td>0.04991</td>\n",
              "      <td>0.00589</td>\n",
              "      <td>0.08434</td>\n",
              "      <td>0.12071</td>\n",
              "      <td>2.09459</td>\n",
              "      <td>140.0</td>\n",
              "      <td>3.795</td>\n",
              "      <td>3.951642</td>\n",
              "      <td>3.638358</td>\n",
              "      <td>0.858428</td>\n",
              "      <td>1.104412</td>\n",
              "      <td>0.049869</td>\n",
              "      <td>0.000000</td>\n",
              "      <td>0.097926</td>\n",
              "      <td>0.069720</td>\n",
              "      <td>1.614482</td>\n",
              "      <td>142.0</td>\n",
              "      <td>3.795</td>\n",
              "      <td>0.730</td>\n",
              "      <td>1.125</td>\n",
              "      <td>0.269</td>\n",
              "      <td>0.000</td>\n",
              "      <td>0.079</td>\n",
              "      <td>0.061</td>\n",
              "    </tr>\n",
              "    <tr>\n",
              "      <th>4</th>\n",
              "      <td>Argentina</td>\n",
              "      <td>Latin America and Caribbean</td>\n",
              "      <td>30.0</td>\n",
              "      <td>6.574</td>\n",
              "      <td>0.04612</td>\n",
              "      <td>1.05351</td>\n",
              "      <td>1.24823</td>\n",
              "      <td>0.78723</td>\n",
              "      <td>0.44974</td>\n",
              "      <td>0.08484</td>\n",
              "      <td>0.11451</td>\n",
              "      <td>2.83600</td>\n",
              "      <td>26.0</td>\n",
              "      <td>6.650</td>\n",
              "      <td>6.560</td>\n",
              "      <td>6.740</td>\n",
              "      <td>1.15137</td>\n",
              "      <td>1.06612</td>\n",
              "      <td>0.69711</td>\n",
              "      <td>0.42284</td>\n",
              "      <td>0.07296</td>\n",
              "      <td>0.10989</td>\n",
              "      <td>3.12985</td>\n",
              "      <td>24.0</td>\n",
              "      <td>6.599</td>\n",
              "      <td>6.690085</td>\n",
              "      <td>6.507915</td>\n",
              "      <td>1.185295</td>\n",
              "      <td>1.440451</td>\n",
              "      <td>0.695137</td>\n",
              "      <td>0.494519</td>\n",
              "      <td>0.109457</td>\n",
              "      <td>0.059740</td>\n",
              "      <td>2.614005</td>\n",
              "      <td>29.0</td>\n",
              "      <td>6.388</td>\n",
              "      <td>1.073</td>\n",
              "      <td>1.468</td>\n",
              "      <td>0.744</td>\n",
              "      <td>0.570</td>\n",
              "      <td>0.062</td>\n",
              "      <td>0.054</td>\n",
              "    </tr>\n",
              "    <tr>\n",
              "      <th>...</th>\n",
              "      <td>...</td>\n",
              "      <td>...</td>\n",
              "      <td>...</td>\n",
              "      <td>...</td>\n",
              "      <td>...</td>\n",
              "      <td>...</td>\n",
              "      <td>...</td>\n",
              "      <td>...</td>\n",
              "      <td>...</td>\n",
              "      <td>...</td>\n",
              "      <td>...</td>\n",
              "      <td>...</td>\n",
              "      <td>...</td>\n",
              "      <td>...</td>\n",
              "      <td>...</td>\n",
              "      <td>...</td>\n",
              "      <td>...</td>\n",
              "      <td>...</td>\n",
              "      <td>...</td>\n",
              "      <td>...</td>\n",
              "      <td>...</td>\n",
              "      <td>...</td>\n",
              "      <td>...</td>\n",
              "      <td>...</td>\n",
              "      <td>...</td>\n",
              "      <td>...</td>\n",
              "      <td>...</td>\n",
              "      <td>...</td>\n",
              "      <td>...</td>\n",
              "      <td>...</td>\n",
              "      <td>...</td>\n",
              "      <td>...</td>\n",
              "      <td>...</td>\n",
              "      <td>...</td>\n",
              "      <td>...</td>\n",
              "      <td>...</td>\n",
              "      <td>...</td>\n",
              "      <td>...</td>\n",
              "      <td>...</td>\n",
              "      <td>...</td>\n",
              "      <td>...</td>\n",
              "      <td>...</td>\n",
              "    </tr>\n",
              "    <tr>\n",
              "      <th>161</th>\n",
              "      <td>Venezuela</td>\n",
              "      <td>Latin America and Caribbean</td>\n",
              "      <td>23.0</td>\n",
              "      <td>6.810</td>\n",
              "      <td>0.06476</td>\n",
              "      <td>1.04424</td>\n",
              "      <td>1.25596</td>\n",
              "      <td>0.72052</td>\n",
              "      <td>0.42908</td>\n",
              "      <td>0.11069</td>\n",
              "      <td>0.05841</td>\n",
              "      <td>3.19131</td>\n",
              "      <td>44.0</td>\n",
              "      <td>6.084</td>\n",
              "      <td>5.973</td>\n",
              "      <td>6.195</td>\n",
              "      <td>1.13367</td>\n",
              "      <td>1.03302</td>\n",
              "      <td>0.61904</td>\n",
              "      <td>0.19847</td>\n",
              "      <td>0.08304</td>\n",
              "      <td>0.04250</td>\n",
              "      <td>2.97468</td>\n",
              "      <td>82.0</td>\n",
              "      <td>5.250</td>\n",
              "      <td>5.370032</td>\n",
              "      <td>5.129968</td>\n",
              "      <td>1.128431</td>\n",
              "      <td>1.431338</td>\n",
              "      <td>0.617144</td>\n",
              "      <td>0.153997</td>\n",
              "      <td>0.065020</td>\n",
              "      <td>0.064491</td>\n",
              "      <td>1.789464</td>\n",
              "      <td>102.0</td>\n",
              "      <td>4.806</td>\n",
              "      <td>0.996</td>\n",
              "      <td>1.469</td>\n",
              "      <td>0.657</td>\n",
              "      <td>0.133</td>\n",
              "      <td>0.056</td>\n",
              "      <td>0.052</td>\n",
              "    </tr>\n",
              "    <tr>\n",
              "      <th>162</th>\n",
              "      <td>Vietnam</td>\n",
              "      <td>Southeastern Asia</td>\n",
              "      <td>75.0</td>\n",
              "      <td>5.360</td>\n",
              "      <td>0.03107</td>\n",
              "      <td>0.63216</td>\n",
              "      <td>0.91226</td>\n",
              "      <td>0.74676</td>\n",
              "      <td>0.59444</td>\n",
              "      <td>0.10441</td>\n",
              "      <td>0.16860</td>\n",
              "      <td>2.20173</td>\n",
              "      <td>96.0</td>\n",
              "      <td>5.061</td>\n",
              "      <td>4.991</td>\n",
              "      <td>5.131</td>\n",
              "      <td>0.74037</td>\n",
              "      <td>0.79117</td>\n",
              "      <td>0.66157</td>\n",
              "      <td>0.55954</td>\n",
              "      <td>0.11556</td>\n",
              "      <td>0.25075</td>\n",
              "      <td>1.94180</td>\n",
              "      <td>94.0</td>\n",
              "      <td>5.074</td>\n",
              "      <td>5.147281</td>\n",
              "      <td>5.000719</td>\n",
              "      <td>0.788548</td>\n",
              "      <td>1.277491</td>\n",
              "      <td>0.652169</td>\n",
              "      <td>0.571056</td>\n",
              "      <td>0.234968</td>\n",
              "      <td>0.087633</td>\n",
              "      <td>1.462319</td>\n",
              "      <td>95.0</td>\n",
              "      <td>5.103</td>\n",
              "      <td>0.715</td>\n",
              "      <td>1.365</td>\n",
              "      <td>0.702</td>\n",
              "      <td>0.618</td>\n",
              "      <td>0.177</td>\n",
              "      <td>0.079</td>\n",
              "    </tr>\n",
              "    <tr>\n",
              "      <th>163</th>\n",
              "      <td>Yemen</td>\n",
              "      <td>Middle East and Northern Africa</td>\n",
              "      <td>136.0</td>\n",
              "      <td>4.077</td>\n",
              "      <td>0.04367</td>\n",
              "      <td>0.54649</td>\n",
              "      <td>0.68093</td>\n",
              "      <td>0.40064</td>\n",
              "      <td>0.35571</td>\n",
              "      <td>0.07854</td>\n",
              "      <td>0.09131</td>\n",
              "      <td>1.92313</td>\n",
              "      <td>147.0</td>\n",
              "      <td>3.724</td>\n",
              "      <td>3.621</td>\n",
              "      <td>3.827</td>\n",
              "      <td>0.57939</td>\n",
              "      <td>0.47493</td>\n",
              "      <td>0.31048</td>\n",
              "      <td>0.22870</td>\n",
              "      <td>0.05892</td>\n",
              "      <td>0.09821</td>\n",
              "      <td>1.97295</td>\n",
              "      <td>146.0</td>\n",
              "      <td>3.593</td>\n",
              "      <td>3.692750</td>\n",
              "      <td>3.493250</td>\n",
              "      <td>0.591683</td>\n",
              "      <td>0.935382</td>\n",
              "      <td>0.310081</td>\n",
              "      <td>0.249464</td>\n",
              "      <td>0.104125</td>\n",
              "      <td>0.056767</td>\n",
              "      <td>1.345601</td>\n",
              "      <td>152.0</td>\n",
              "      <td>3.355</td>\n",
              "      <td>0.442</td>\n",
              "      <td>1.073</td>\n",
              "      <td>0.343</td>\n",
              "      <td>0.244</td>\n",
              "      <td>0.083</td>\n",
              "      <td>0.064</td>\n",
              "    </tr>\n",
              "    <tr>\n",
              "      <th>164</th>\n",
              "      <td>Zambia</td>\n",
              "      <td>Sub-Saharan Africa</td>\n",
              "      <td>85.0</td>\n",
              "      <td>5.129</td>\n",
              "      <td>0.06988</td>\n",
              "      <td>0.47038</td>\n",
              "      <td>0.91612</td>\n",
              "      <td>0.29924</td>\n",
              "      <td>0.48827</td>\n",
              "      <td>0.12468</td>\n",
              "      <td>0.19591</td>\n",
              "      <td>2.63430</td>\n",
              "      <td>106.0</td>\n",
              "      <td>4.795</td>\n",
              "      <td>4.645</td>\n",
              "      <td>4.945</td>\n",
              "      <td>0.61202</td>\n",
              "      <td>0.63760</td>\n",
              "      <td>0.23573</td>\n",
              "      <td>0.42662</td>\n",
              "      <td>0.11479</td>\n",
              "      <td>0.17866</td>\n",
              "      <td>2.58991</td>\n",
              "      <td>116.0</td>\n",
              "      <td>4.514</td>\n",
              "      <td>4.644106</td>\n",
              "      <td>4.383894</td>\n",
              "      <td>0.636407</td>\n",
              "      <td>1.003187</td>\n",
              "      <td>0.257836</td>\n",
              "      <td>0.461603</td>\n",
              "      <td>0.249580</td>\n",
              "      <td>0.078214</td>\n",
              "      <td>1.826705</td>\n",
              "      <td>125.0</td>\n",
              "      <td>4.377</td>\n",
              "      <td>0.562</td>\n",
              "      <td>1.047</td>\n",
              "      <td>0.295</td>\n",
              "      <td>0.503</td>\n",
              "      <td>0.221</td>\n",
              "      <td>0.082</td>\n",
              "    </tr>\n",
              "    <tr>\n",
              "      <th>165</th>\n",
              "      <td>Zimbabwe</td>\n",
              "      <td>Sub-Saharan Africa</td>\n",
              "      <td>115.0</td>\n",
              "      <td>4.610</td>\n",
              "      <td>0.04290</td>\n",
              "      <td>0.27100</td>\n",
              "      <td>1.03276</td>\n",
              "      <td>0.33475</td>\n",
              "      <td>0.25861</td>\n",
              "      <td>0.08079</td>\n",
              "      <td>0.18987</td>\n",
              "      <td>2.44191</td>\n",
              "      <td>131.0</td>\n",
              "      <td>4.193</td>\n",
              "      <td>4.101</td>\n",
              "      <td>4.285</td>\n",
              "      <td>0.35041</td>\n",
              "      <td>0.71478</td>\n",
              "      <td>0.15950</td>\n",
              "      <td>0.25429</td>\n",
              "      <td>0.08582</td>\n",
              "      <td>0.18503</td>\n",
              "      <td>2.44270</td>\n",
              "      <td>138.0</td>\n",
              "      <td>3.875</td>\n",
              "      <td>3.978700</td>\n",
              "      <td>3.771300</td>\n",
              "      <td>0.375847</td>\n",
              "      <td>1.083096</td>\n",
              "      <td>0.196764</td>\n",
              "      <td>0.336384</td>\n",
              "      <td>0.189143</td>\n",
              "      <td>0.095375</td>\n",
              "      <td>1.597970</td>\n",
              "      <td>144.0</td>\n",
              "      <td>3.692</td>\n",
              "      <td>0.357</td>\n",
              "      <td>1.094</td>\n",
              "      <td>0.248</td>\n",
              "      <td>0.406</td>\n",
              "      <td>0.132</td>\n",
              "      <td>0.099</td>\n",
              "    </tr>\n",
              "  </tbody>\n",
              "</table>\n",
              "<p>166 rows × 42 columns</p>\n",
              "</div>"
            ],
            "text/plain": [
              "         Country  ... Perceptions of corruption 2018\n",
              "0    Afghanistan  ...                          0.036\n",
              "1        Albania  ...                          0.032\n",
              "2        Algeria  ...                          0.135\n",
              "3         Angola  ...                          0.061\n",
              "4      Argentina  ...                          0.054\n",
              "..           ...  ...                            ...\n",
              "161    Venezuela  ...                          0.052\n",
              "162      Vietnam  ...                          0.079\n",
              "163        Yemen  ...                          0.064\n",
              "164       Zambia  ...                          0.082\n",
              "165     Zimbabwe  ...                          0.099\n",
              "\n",
              "[166 rows x 42 columns]"
            ]
          },
          "metadata": {
            "tags": []
          },
          "execution_count": 5
        }
      ]
    },
    {
      "cell_type": "markdown",
      "metadata": {
        "id": "_9f7oOBR50My"
      },
      "source": [
        "### Procedure\n",
        "\n",
        "After analyzing the datasets, we found that out of all the countries, Hong Kong and Somaliland Region were the only countries that appeared in two unique instances, as they were renamed. We unified these two countries by renaming all instances to the most recent instance: Hong Kong and Somaliland Region respectively. We then sorted each dataframe (corresponding to each year) alphabetically by country name in-place, while keeping the indices intact. We then appended each column in each dataframe with its respective year.\n",
        "\n",
        "We created a `total` dataframe populating it with data from the 2015 dataframe. We then performed outer merges on `total` and each of the other datasets in the train set (2015-2018). If any countries were newly added, we transferred the country to the general \"Country\" column and then dropped the duplicate country and region columns.\n",
        "\n",
        "The `total` dataframe now contains the statistics for the entire train dataset with columns labeled by year."
      ]
    },
    {
      "cell_type": "code",
      "metadata": {
        "id": "YDjRdZiQ5LHU",
        "colab": {
          "base_uri": "https://localhost:8080/",
          "height": 295
        },
        "outputId": "e467a797-c78d-4825-e3ba-acc4c7e39023"
      },
      "source": [
        "mean_happiness_score = pd.Series([total['Happiness Score 2015'].mean(), total['Happiness Score 2016'].mean(), total['Happiness.Score 2017'].mean(), total['Score 2018'].mean()])\n",
        "mean_happiness_score.index=['2015','2016','2017','2018']\n",
        "mean_happiness_score.plot()\n",
        "plt.title('Mean Happiness across Time')\n",
        "plt.xlabel('Year')\n",
        "plt.ylabel('Mean Happiness Score')\n",
        "plt.show()"
      ],
      "execution_count": null,
      "outputs": [
        {
          "output_type": "display_data",
          "data": {
            "image/png": "[encoded data removed]",
            "text/plain": [
              "<Figure size 432x288 with 1 Axes>"
            ]
          },
          "metadata": {
            "tags": [],
            "needs_background": "light"
          }
        }
      ]
    },
    {
      "cell_type": "code",
      "metadata": {
        "id": "HrCjTENau64p",
        "colab": {
          "base_uri": "https://localhost:8080/",
          "height": 295
        },
        "outputId": "fd2e9178-39eb-4175-8716-f5d31c26b68a"
      },
      "source": [
        "\n",
        "median_happiness_score = pd.Series([total['Happiness Score 2015'].median(), total['Happiness Score 2016'].median(), total['Happiness.Score 2017'].median(), total['Score 2018'].median()])\n",
        "median_happiness_score.index=['2015','2016','2017','2018']\n",
        "median_happiness_score.plot()\n",
        "plt.title('Median Happiness across Time')\n",
        "plt.xlabel('Year')\n",
        "plt.ylabel('Median Happiness Score')\n",
        "plt.show()"
      ],
      "execution_count": null,
      "outputs": [
        {
          "output_type": "display_data",
          "data": {
            "image/png": "[encoded data removed]",
            "text/plain": [
              "<Figure size 432x288 with 1 Axes>"
            ]
          },
          "metadata": {
            "tags": [],
            "needs_background": "light"
          }
        }
      ]
    },
    {
      "cell_type": "markdown",
      "metadata": {
        "id": "hhCP8llYLQh9"
      },
      "source": [
        "The mean and median generally increased over time. This implies countries overall grew happier from 2015 to 2018.\n",
        "Interestingly, the mean and median happiness score dropped in 2017, then rose in 2018.\n"
      ]
    },
    {
      "cell_type": "code",
      "metadata": {
        "id": "mxsyVtl8dyd3",
        "colab": {
          "base_uri": "https://localhost:8080/",
          "height": 450
        },
        "outputId": "7d3f2774-57be-4408-b4ec-8081d6f48cfd"
      },
      "source": [
        "rank_df = total[['Country', 'Happiness Rank 2015', 'Happiness Rank 2016', 'Happiness.Rank 2017', 'Overall rank 2018']]\n",
        "#rank_df = pd.merge(rank_df, nine[['Country or region 2019', 'Overall rank 2019']], how='left', left_on='Country', right_on='Country or region 2019')\n",
        "#rank_df = rank_df.drop(columns=['Country or region 2019']) #after merging on correct countries dispose of redudant country column\n",
        "#rank_df = rank_df.assign(std_dev = rank_df[['Happiness Rank 2015','Happiness Rank 2016','Happiness.Rank 2017','Overall rank 2018','Overall rank 2019']].std(axis=1))\n",
        "rank_df = rank_df[['Happiness Rank 2015', 'Happiness Rank 2016', 'Happiness.Rank 2017', 'Overall rank 2018']].interpolate(axis = 1) #interpolating NaN data values\n",
        "rank_df.index = total['Country']\n",
        "rank_df = rank_df.assign(gmoney = abs(rank_df['Happiness Rank 2015'] - rank_df['Happiness Rank 2016']) +\n",
        "                        abs(rank_df['Happiness Rank 2016'] - rank_df['Happiness.Rank 2017']) +\n",
        "                        abs(rank_df['Happiness.Rank 2017'] - rank_df['Overall rank 2018']))\n",
        "rank_df = rank_df.assign(rankrise = rank_df['Happiness Rank 2015'] - rank_df['Overall rank 2018'])\n",
        "rank_df"
      ],
      "execution_count": null,
      "outputs": [
        {
          "output_type": "execute_result",
          "data": {
            "text/html": [
              "<div>\n",
              "<style scoped>\n",
              "    .dataframe tbody tr th:only-of-type {\n",
              "        vertical-align: middle;\n",
              "    }\n",
              "\n",
              "    .dataframe tbody tr th {\n",
              "        vertical-align: top;\n",
              "    }\n",
              "\n",
              "    .dataframe thead th {\n",
              "        text-align: right;\n",
              "    }\n",
              "</style>\n",
              "<table border=\"1\" class=\"dataframe\">\n",
              "  <thead>\n",
              "    <tr style=\"text-align: right;\">\n",
              "      <th></th>\n",
              "      <th>Happiness Rank 2015</th>\n",
              "      <th>Happiness Rank 2016</th>\n",
              "      <th>Happiness.Rank 2017</th>\n",
              "      <th>Overall rank 2018</th>\n",
              "      <th>gmoney</th>\n",
              "      <th>rankrise</th>\n",
              "    </tr>\n",
              "    <tr>\n",
              "      <th>Country</th>\n",
              "      <th></th>\n",
              "      <th></th>\n",
              "      <th></th>\n",
              "      <th></th>\n",
              "      <th></th>\n",
              "      <th></th>\n",
              "    </tr>\n",
              "  </thead>\n",
              "  <tbody>\n",
              "    <tr>\n",
              "      <th>Afghanistan</th>\n",
              "      <td>153.0</td>\n",
              "      <td>154.0</td>\n",
              "      <td>141.0</td>\n",
              "      <td>145.0</td>\n",
              "      <td>18.0</td>\n",
              "      <td>8.0</td>\n",
              "    </tr>\n",
              "    <tr>\n",
              "      <th>Albania</th>\n",
              "      <td>95.0</td>\n",
              "      <td>109.0</td>\n",
              "      <td>109.0</td>\n",
              "      <td>112.0</td>\n",
              "      <td>17.0</td>\n",
              "      <td>-17.0</td>\n",
              "    </tr>\n",
              "    <tr>\n",
              "      <th>Algeria</th>\n",
              "      <td>68.0</td>\n",
              "      <td>38.0</td>\n",
              "      <td>53.0</td>\n",
              "      <td>84.0</td>\n",
              "      <td>76.0</td>\n",
              "      <td>-16.0</td>\n",
              "    </tr>\n",
              "    <tr>\n",
              "      <th>Angola</th>\n",
              "      <td>137.0</td>\n",
              "      <td>141.0</td>\n",
              "      <td>140.0</td>\n",
              "      <td>142.0</td>\n",
              "      <td>7.0</td>\n",
              "      <td>-5.0</td>\n",
              "    </tr>\n",
              "    <tr>\n",
              "      <th>Argentina</th>\n",
              "      <td>30.0</td>\n",
              "      <td>26.0</td>\n",
              "      <td>24.0</td>\n",
              "      <td>29.0</td>\n",
              "      <td>11.0</td>\n",
              "      <td>1.0</td>\n",
              "    </tr>\n",
              "    <tr>\n",
              "      <th>...</th>\n",
              "      <td>...</td>\n",
              "      <td>...</td>\n",
              "      <td>...</td>\n",
              "      <td>...</td>\n",
              "      <td>...</td>\n",
              "      <td>...</td>\n",
              "    </tr>\n",
              "    <tr>\n",
              "      <th>Venezuela</th>\n",
              "      <td>23.0</td>\n",
              "      <td>44.0</td>\n",
              "      <td>82.0</td>\n",
              "      <td>102.0</td>\n",
              "      <td>79.0</td>\n",
              "      <td>-79.0</td>\n",
              "    </tr>\n",
              "    <tr>\n",
              "      <th>Vietnam</th>\n",
              "      <td>75.0</td>\n",
              "      <td>96.0</td>\n",
              "      <td>94.0</td>\n",
              "      <td>95.0</td>\n",
              "      <td>24.0</td>\n",
              "      <td>-20.0</td>\n",
              "    </tr>\n",
              "    <tr>\n",
              "      <th>Yemen</th>\n",
              "      <td>136.0</td>\n",
              "      <td>147.0</td>\n",
              "      <td>146.0</td>\n",
              "      <td>152.0</td>\n",
              "      <td>18.0</td>\n",
              "      <td>-16.0</td>\n",
              "    </tr>\n",
              "    <tr>\n",
              "      <th>Zambia</th>\n",
              "      <td>85.0</td>\n",
              "      <td>106.0</td>\n",
              "      <td>116.0</td>\n",
              "      <td>125.0</td>\n",
              "      <td>40.0</td>\n",
              "      <td>-40.0</td>\n",
              "    </tr>\n",
              "    <tr>\n",
              "      <th>Zimbabwe</th>\n",
              "      <td>115.0</td>\n",
              "      <td>131.0</td>\n",
              "      <td>138.0</td>\n",
              "      <td>144.0</td>\n",
              "      <td>29.0</td>\n",
              "      <td>-29.0</td>\n",
              "    </tr>\n",
              "  </tbody>\n",
              "</table>\n",
              "<p>166 rows × 6 columns</p>\n",
              "</div>"
            ],
            "text/plain": [
              "             Happiness Rank 2015  Happiness Rank 2016  ...  gmoney  rankrise\n",
              "Country                                                ...                  \n",
              "Afghanistan                153.0                154.0  ...    18.0       8.0\n",
              "Albania                     95.0                109.0  ...    17.0     -17.0\n",
              "Algeria                     68.0                 38.0  ...    76.0     -16.0\n",
              "Angola                     137.0                141.0  ...     7.0      -5.0\n",
              "Argentina                   30.0                 26.0  ...    11.0       1.0\n",
              "...                          ...                  ...  ...     ...       ...\n",
              "Venezuela                   23.0                 44.0  ...    79.0     -79.0\n",
              "Vietnam                     75.0                 96.0  ...    24.0     -20.0\n",
              "Yemen                      136.0                147.0  ...    18.0     -16.0\n",
              "Zambia                      85.0                106.0  ...    40.0     -40.0\n",
              "Zimbabwe                   115.0                131.0  ...    29.0     -29.0\n",
              "\n",
              "[166 rows x 6 columns]"
            ]
          },
          "metadata": {
            "tags": []
          },
          "execution_count": 8
        }
      ]
    },
    {
      "cell_type": "markdown",
      "metadata": {
        "id": "dKTqZXELS1rC"
      },
      "source": [
        "We created a new dataframe here, containing every country's Happiness Rank from 2015 to 2018. The stability of a country's rank was calculated as the summation of the difference of each year's rank. A smaller summation equated to less variation in a country's ranking, meaning a more stable country. \n",
        "\n",
        "Finding the countries who raised in rank was done by subtracting the rank in 2015 by 2018's rank, in each country. Countries with a positive difference meant a rise in rank, a negative difference meant a drop in rank."
      ]
    },
    {
      "cell_type": "code",
      "metadata": {
        "id": "oHkna5yPoJgm",
        "colab": {
          "base_uri": "https://localhost:8080/",
          "height": 325
        },
        "outputId": "019066c3-8c59-4503-fd4b-7ded5639788d"
      },
      "source": [
        "plt.figure(figsize=(30, 3))\n",
        "plt.xticks(rotation='vertical')\n",
        "plt.bar(rank_df.index, rank_df['gmoney'], align='edge', width=0.8)\n",
        "plt.show()"
      ],
      "execution_count": null,
      "outputs": [
        {
          "output_type": "display_data",
          "data": {
            "image/png": "[encoded data removed]",
            "text/plain": [
              "<Figure size 2160x216 with 1 Axes>"
            ]
          },
          "metadata": {
            "tags": [],
            "needs_background": "light"
          }
        }
      ]
    },
    {
      "cell_type": "markdown",
      "metadata": {
        "id": "MsLDu1afUKXJ"
      },
      "source": [
        "The most stable countries in terms of rankings included The Netherlands, New Zealand, Iceland, Australia, Belgium, and Rwanda. Algeria and Venezuela were by far the least stable countries, followed by countries such as Gabon, Ivory Coast, and Lesotho."
      ]
    },
    {
      "cell_type": "code",
      "metadata": {
        "id": "KuFOvv6EQURO",
        "colab": {
          "base_uri": "https://localhost:8080/",
          "height": 325
        },
        "outputId": "c8ce5307-52f4-417c-8f58-637209b6d435"
      },
      "source": [
        "plt.figure(figsize=(30, 3))\n",
        "plt.xticks(rotation='vertical')\n",
        "plt.bar(rank_df.index, rank_df['rankrise'], align='edge', width=0.8)\n",
        "plt.show()"
      ],
      "execution_count": null,
      "outputs": [
        {
          "output_type": "display_data",
          "data": {
            "image/png": "[encoded data removed]",
            "text/plain": [
              "<Figure size 2160x216 with 1 Axes>"
            ]
          },
          "metadata": {
            "tags": [],
            "needs_background": "light"
          }
        }
      ]
    },
    {
      "cell_type": "markdown",
      "metadata": {
        "id": "WtN8F5jnU_XS"
      },
      "source": [
        "The countries that rose significantly from 2015 to 2018 include Bulgaria, Cameroon, Gabon, Ivory Coast, and Latvia. Echoing its stability, Venezuela also experienced an extreme drop in rankings, alongside Lesotho and Libera. Lesotho was also among the least stable countries from 2015 to 2018.\n"
      ]
    },
    {
      "cell_type": "markdown",
      "metadata": {
        "id": "qrhbsxo06pyM"
      },
      "source": [
        "## Pearson Correlation Coefficient Between Happiness Score and Other Features\n",
        "### Which features contribute to happiness?"
      ]
    },
    {
      "cell_type": "markdown",
      "metadata": {
        "id": "6AooS8M76xvH"
      },
      "source": [
        "### Features: Economy (GDP per Capita), Social Support (2018), Health (Life Expectancy), Freedom, Perceptions of Corruption (2018), Generosity"
      ]
    },
    {
      "cell_type": "markdown",
      "metadata": {
        "id": "KDh1zOJVTzU0"
      },
      "source": [
        "We omitted standard error as it is only present for the 2015 dataset. We also omitted confidence intervals, whiskers, and dystopia residual as they do not appear in later years. From appearances, it appears the Family feature (2015-2017) is replaced by Social Support in 2018 as well as Trust (Government Corruption) by Perceptions of Corruption. As such, we only use 2018 values for determining correlation between happiness score and social support/perceptions of corruption. For reference, we also calculate the correlation coefficient for just 2018 for the other features as well."
      ]
    },
    {
      "cell_type": "code",
      "metadata": {
        "id": "lkwUb73fO6wu",
        "colab": {
          "base_uri": "https://localhost:8080/",
          "height": 459
        },
        "outputId": "428d7f1f-99d7-4f1b-a342-c4d066542289"
      },
      "source": [
        "# Setting up happiness score numpy array and series for Pearson correlation coefficient\n",
        "happiness_cols = [\"Happiness Score 2015\", \"Happiness Score 2016\", \"Happiness.Score 2017\", \"Score 2018\"]\n",
        "happiness_arr = total[happiness_cols].transpose().to_numpy().flatten() # happiness_arr = 1-D numpy array with all of the happiness scores sorted by alphabetical order by country name for every year\n",
        "happiness_series = pd.Series(happiness_arr) # happiness_series = Pandas series with all of the happiness scores sorted by alphabetical order by country name for every year\n",
        "print(\"Happiness Score Series for All Years\")\n",
        "print(happiness_series)\n",
        "happiness_arr_2018 = total[\"Score 2018\"] # happiness arr for only 2018\n",
        "happiness_series_2018 = pd.Series(happiness_arr_2018) # happiness series for only 2018\n",
        "print(\"Happiness Score Series for 2018\")\n",
        "print(happiness_series_2018)"
      ],
      "execution_count": null,
      "outputs": [
        {
          "output_type": "stream",
          "text": [
            "Happiness Score Series for All Years\n",
            "0      3.575\n",
            "1      4.959\n",
            "2      5.605\n",
            "3      4.033\n",
            "4      6.574\n",
            "       ...  \n",
            "659    4.806\n",
            "660    5.103\n",
            "661    3.355\n",
            "662    4.377\n",
            "663    3.692\n",
            "Length: 664, dtype: float64\n",
            "Happiness Score Series for 2018\n",
            "0      3.632\n",
            "1      4.586\n",
            "2      5.295\n",
            "3      3.795\n",
            "4      6.388\n",
            "       ...  \n",
            "161    4.806\n",
            "162    5.103\n",
            "163    3.355\n",
            "164    4.377\n",
            "165    3.692\n",
            "Name: Score 2018, Length: 166, dtype: float64\n"
          ],
          "name": "stdout"
        }
      ]
    },
    {
      "cell_type": "code",
      "metadata": {
        "id": "tVGiAW806UzP",
        "colab": {
          "base_uri": "https://localhost:8080/",
          "height": 34
        },
        "outputId": "523a123c-9643-4227-a3ce-e4ff25498b80"
      },
      "source": [
        "# Calculating Pearson correlation coefficient between happiness score and GDP per capita\n",
        "economy_cols = [\"Economy (GDP per Capita) 2015\", \"Economy (GDP per Capita) 2016\", \"Economy..GDP.per.Capita. 2017\", \"GDP per capita 2018\"]\n",
        "economy_arr = total[economy_cols].transpose().to_numpy().flatten() # economy_arr = 1-D numpy array with all of the GDP per capita sorted by alphabetical order by country name for every year\n",
        "economy_series = pd.Series(economy_arr) # economy_series = Pandas series with all of the GDP per capita sorted by alphabetical order by country name for every year\n",
        "\n",
        "r1 = happiness_series.corr(economy_series, method=\"pearson\") # Pandas correlation ignores NaN pairs\n",
        "print(\"Pearson correlation coefficient between happiness score and GDP per capita: \", r1)"
      ],
      "execution_count": null,
      "outputs": [
        {
          "output_type": "stream",
          "text": [
            "Pearson correlation coefficient between happiness score and GDP per capita:  0.7885723398716481\n"
          ],
          "name": "stdout"
        }
      ]
    },
    {
      "cell_type": "code",
      "metadata": {
        "id": "JRa6H0xGKPmq",
        "colab": {
          "base_uri": "https://localhost:8080/",
          "height": 34
        },
        "outputId": "aa8a2928-ab1a-4a95-d987-f71fecfc6cae"
      },
      "source": [
        "economy_arr_2018 = total[\"GDP per capita 2018\"] # economy_arr_2018 = 1-D numpy array with all of the GDp per capita sorted by alphabetical order by country name for 2018\n",
        "economy_series_2018 = pd.Series(economy_arr_2018) # economy_series_2018 = Pandas series with all of the GDP per capita sorted by alphabetical order by country name for 2018\n",
        "\n",
        "r1_2018 = happiness_series_2018.corr(economy_series_2018, method=\"pearson\")\n",
        "print(\"Pearson correlation coefficient between happiness score and GDP per capita (2018 only): \", r1_2018)"
      ],
      "execution_count": null,
      "outputs": [
        {
          "output_type": "stream",
          "text": [
            "Pearson correlation coefficient between happiness score and GDP per capita (2018 only):  0.8021239467301905\n"
          ],
          "name": "stdout"
        }
      ]
    },
    {
      "cell_type": "code",
      "metadata": {
        "id": "Qpp9A3Gc7cqe",
        "colab": {
          "base_uri": "https://localhost:8080/",
          "height": 34
        },
        "outputId": "d7422d09-b7ba-4932-8334-92ec1ec2225b"
      },
      "source": [
        "# Calculating Pearson correlation coefficient between happiness score and social support (2018 only)\n",
        "social_support_arr = total[\"Social support 2018\"].to_numpy() # social_support_arr = 1-D numpy array with all of the values of social support sorted by alphabetical order by country name for 2018\n",
        "social_support_series = pd.Series(social_support_arr) # social_support_series = Pandas series with all of the values of social support sorted by alphabetical order by country name for 2018\n",
        "\n",
        "r2 = happiness_series_2018.corr(social_support_series, method=\"pearson\")\n",
        "print(\"Pearson correlation coefficient between happiness score and social support: \", r2)"
      ],
      "execution_count": null,
      "outputs": [
        {
          "output_type": "stream",
          "text": [
            "Pearson correlation coefficient between happiness score and social support:  0.7457601649725747\n"
          ],
          "name": "stdout"
        }
      ]
    },
    {
      "cell_type": "code",
      "metadata": {
        "id": "s3r5gYKOeXRt",
        "colab": {
          "base_uri": "https://localhost:8080/",
          "height": 34
        },
        "outputId": "d2e30bc7-5185-4b8a-8d8e-100fd487b357"
      },
      "source": [
        "# Calculating Pearson correlation coefficient between happiness score and health (life expectancy)\n",
        "health_cols = [\"Health (Life Expectancy) 2015\", \"Health (Life Expectancy) 2016\", \"Health..Life.Expectancy. 2017\", \"Healthy life expectancy 2018\"]\n",
        "health_arr = total[health_cols].transpose().to_numpy().flatten() # health_arr = 1-D numpy array with all of the life expectancies sorted by alphabetical order by country name for every year\n",
        "health_series = pd.Series(health_arr) # health_series = Pandas series with all of the life expectancies sorted by alphabetical order by country name for every year\n",
        "\n",
        "r3 = happiness_series.corr(health_series, method=\"pearson\")\n",
        "print(\"Pearson correlation coefficient between happiness score and health (life expectancy): \", r3)"
      ],
      "execution_count": null,
      "outputs": [
        {
          "output_type": "stream",
          "text": [
            "Pearson correlation coefficient between happiness score and health (life expectancy):  0.7545623066546295\n"
          ],
          "name": "stdout"
        }
      ]
    },
    {
      "cell_type": "code",
      "metadata": {
        "id": "wZrdMh-vLx5-",
        "colab": {
          "base_uri": "https://localhost:8080/",
          "height": 34
        },
        "outputId": "ee3e6998-d8cd-4433-9004-079ca87dff57"
      },
      "source": [
        "health_arr_2018 = total[\"Healthy life expectancy 2018\"] # health_arr_2018 = 1-D numpy array with all of the life expectancies sorted by alphabetical order by country name for 2018\n",
        "health_series_2018 = pd.Series(health_arr_2018) # health_series_2018 = Pandas series with all of the life expectancies sorted by alphabetical order by country name for 2018\n",
        "\n",
        "r3_2018 = happiness_series_2018.corr(health_series_2018, method=\"pearson\")\n",
        "print(\"Pearson correlation coefficient between happiness score and health (life expectancy) (2018 only): \", r3_2018)"
      ],
      "execution_count": null,
      "outputs": [
        {
          "output_type": "stream",
          "text": [
            "Pearson correlation coefficient between happiness score and health (life expectancy) (2018 only):  0.7758136033302462\n"
          ],
          "name": "stdout"
        }
      ]
    },
    {
      "cell_type": "code",
      "metadata": {
        "id": "qdT8uLGohpwN",
        "colab": {
          "base_uri": "https://localhost:8080/",
          "height": 34
        },
        "outputId": "252aa72c-7521-48e0-ecc4-1d686b645700"
      },
      "source": [
        "# Calculating Pearson correlation coefficient between happiness score and freedom\n",
        "freedom_cols = [\"Freedom 2015\", \"Freedom 2016\", \"Freedom 2017\", \"Freedom to make life choices 2018\"]\n",
        "freedom_arr = total[freedom_cols].transpose().to_numpy().flatten() # freedom_arr = 1-D numpy array with all of the values of freedom sorted by alphabetical order by country name for every year\n",
        "freedom_series = pd.Series(freedom_arr) # freedom_series = Pandas series with all of the values of freedom sorted by alphabetical order by country name for every year\n",
        "\n",
        "r4 = happiness_series.corr(freedom_series, method=\"pearson\")\n",
        "print(\"Pearson correlation coefficient between happiness score and freedom: \", r4)"
      ],
      "execution_count": null,
      "outputs": [
        {
          "output_type": "stream",
          "text": [
            "Pearson correlation coefficient between happiness score and freedom:  0.5501754567862979\n"
          ],
          "name": "stdout"
        }
      ]
    },
    {
      "cell_type": "code",
      "metadata": {
        "id": "tuzGiBYQMcfF",
        "colab": {
          "base_uri": "https://localhost:8080/",
          "height": 34
        },
        "outputId": "8c26ec6a-768a-4f86-a1b9-f45e013d2e85"
      },
      "source": [
        "freedom_arr_2018 = total[\"Freedom to make life choices 2018\"] # freedom_arr_2018 = 1-D numpy array with all of the values of freedom sorted by alphabetical order by country name for 2018\n",
        "freedom_series_2018 = pd.Series(freedom_arr_2018) # freedom_series_2018 = Pandas weries with all of the values of freedom sorted by alphabetical order by country name for 2018\n",
        "\n",
        "r4_2018 = happiness_series.corr(freedom_series_2018, method=\"pearson\")\n",
        "print(\"Pearson correlation coefficient between happiness score and freedom (2018 only): \", r4_2018)"
      ],
      "execution_count": null,
      "outputs": [
        {
          "output_type": "stream",
          "text": [
            "Pearson correlation coefficient between happiness score and freedom (2018 only):  0.5004516308398662\n"
          ],
          "name": "stdout"
        }
      ]
    },
    {
      "cell_type": "code",
      "metadata": {
        "id": "l1Hm5SMai_QE",
        "colab": {
          "base_uri": "https://localhost:8080/",
          "height": 34
        },
        "outputId": "3262b397-1070-44b3-a1b2-b12026b07e36"
      },
      "source": [
        "# Calculating Pearson correlation coefficient between happiness score and perceptions of corruption (2018)\n",
        "corruption_arr = total[\"Perceptions of corruption 2018\"] # corruption_arr = 1-D numpy array with all of the values of corruption perception sorted by alphabetical order by country name for 2018\n",
        "corruption_series = pd.Series(corruption_arr) # corruption_series = Pandas series with all of the values of corruption perception sorted by alphabetical order by country name for 2018\n",
        "\n",
        "r5 = happiness_series_2018.corr(corruption_series, method=\"pearson\")\n",
        "print(\"Pearson correlation coefficient between happiness score and perception of corruption: \", r5)"
      ],
      "execution_count": null,
      "outputs": [
        {
          "output_type": "stream",
          "text": [
            "Pearson correlation coefficient between happiness score and perception of corruption:  0.4052915227150998\n"
          ],
          "name": "stdout"
        }
      ]
    },
    {
      "cell_type": "code",
      "metadata": {
        "id": "6pX2o4gb2O1K",
        "colab": {
          "base_uri": "https://localhost:8080/",
          "height": 34
        },
        "outputId": "2b6ec021-123f-4e39-9578-bd0422bc3911"
      },
      "source": [
        "# Calculating Pearson correlation coefficient between happiness score and generosity\n",
        "generosity_cols = [\"Generosity 2015\", \"Generosity 2016\", \"Generosity 2017\", \"Generosity 2018\"]\n",
        "generosity_arr = total[generosity_cols].transpose().to_numpy().flatten() # generosity_arr = 1-D numpy array with all of the values of generosity sorted by alphabetical order by country name for every year\n",
        "generosity_series = pd.Series(generosity_arr) # generosity_series = Pandas series with all of the values of generosity sorted by alphabetical order by country name for every year\n",
        "\n",
        "r6 = happiness_series.corr(generosity_series, method=\"pearson\")\n",
        "print(\"Pearson correlation coefficient between happiness score and generosity: \", r6)"
      ],
      "execution_count": null,
      "outputs": [
        {
          "output_type": "stream",
          "text": [
            "Pearson correlation coefficient between happiness score and generosity:  0.1533100985868894\n"
          ],
          "name": "stdout"
        }
      ]
    },
    {
      "cell_type": "code",
      "metadata": {
        "id": "NBKazYwpOghG",
        "colab": {
          "base_uri": "https://localhost:8080/",
          "height": 34
        },
        "outputId": "4443ff9c-e188-4266-caf5-05eda5562047"
      },
      "source": [
        "generosity_arr_2018 = total[\"Generosity 2018\"] # generosity_arr = 1-D numpy array with all of the values of generosity sorted by alphabetical order by country name for 2018\n",
        "generosity_series_2018 = pd.Series(generosity_arr_2018) # generosity_series = Pandas series with all of the values of generosity sorted by alphabetical order by country name for 2018\n",
        "\n",
        "r6_2018 = happiness_series.corr(generosity_series_2018, method=\"pearson\")\n",
        "print(\"Pearson correlation coefficient between happiness score and generosity (2018 only): \", r6_2018)"
      ],
      "execution_count": null,
      "outputs": [
        {
          "output_type": "stream",
          "text": [
            "Pearson correlation coefficient between happiness score and generosity (2018 only):  0.15501439217227375\n"
          ],
          "name": "stdout"
        }
      ]
    },
    {
      "cell_type": "markdown",
      "metadata": {
        "id": "ntIUiMND5Y0a"
      },
      "source": [
        "### Procedure\n",
        "As countries and features come and go each year the world happiness report is released, there are many missing values that we've left in the `total` dataframe as NaN. As such, we've elected to ignore these values and calculate the correlation coefficients with the data we do have. Conveniently, Pandas `corr()` function calculates Pearson's correlation coefficient while ignoring NaN pairs. In order to use this function, we needed to convert the happiness scores and features into usable Pandas series.\n",
        "\n",
        "As we were originally planning to use NumPy's `corrcoef()` function, we made a habit of converting the dataframe data into NumPy arrays first. As many of the features and happiness score take up multiple columns of the `total` dataframe, we had to take all of the relevant columns, transpose the data so it traverses the dataframe vertically down each country in chronological order, and then convert it to a NumPy array. Since this process makes groupings based on year within the array, we had to flatten the array into a 1-D array. After obtaining the 1-D NumPy array, we could use `Pandas.Series()` function to convert the array into a Pandas series. This process was repeated for any feature that occupied multiple years. For correlation coefficients computed with only the 2018 dataset, no transpose or flattening is needed. The array obtained from indexing the relevant column can be converted into a series with the `Pandas.Series()` function.\n",
        "\n",
        "### Analysis\n",
        "Comparing all the determined coefficients, it is apparent the feature that contribute the most to a country's happiness is a country's economy (GDP per capita) with correlation coefficients of 0.7885723398716481 and 0.8021239467301905 (for the year of 2018). A close second contributor is the overall health (life expectancy) of a country with correlation coefficients of 0.7545623066546295 and 0.7758136033302462 (for the year of 2018). A close third contributor is the presence of social support with a correlation coefficient of 0.7457601649725747 for the year of 2018. All three of these features present strong, positive correlation for a good happiness score. Freedom and perception of corruption show positive, but weak correlation with happiness score, with coefficients less than 0.6. Lastly, generosity plays little role in the happiness score of a country, with almost zero correlation. If I were the president of a country, I would put major emphasis on economy, life expectancy, and social support."
      ]
    },
    {
      "cell_type": "markdown",
      "metadata": {
        "id": "sUs0Rcdd7vs3"
      },
      "source": [
        "## Visualization of the Relationship Between Happiness Score and Other Features"
      ]
    },
    {
      "cell_type": "code",
      "metadata": {
        "id": "q7UlGJRi8w-_",
        "colab": {
          "base_uri": "https://localhost:8080/",
          "height": 295
        },
        "outputId": "0eca9eb1-ad4d-42eb-903a-37257b99b9f6"
      },
      "source": [
        "plt.scatter(economy_arr, happiness_arr)\n",
        "plt.title(\"Relationship Between Economy (GDP per capita) and Happiness Score\")\n",
        "plt.xlabel(\"Economy (GDP per capita)\")\n",
        "plt.ylabel(\"Happiness Score\")\n",
        "plt.show()"
      ],
      "execution_count": null,
      "outputs": [
        {
          "output_type": "display_data",
          "data": {
            "image/png": "[encoded data removed]",
            "text/plain": [
              "<Figure size 432x288 with 1 Axes>"
            ]
          },
          "metadata": {
            "tags": [],
            "needs_background": "light"
          }
        }
      ]
    },
    {
      "cell_type": "code",
      "metadata": {
        "id": "XU0S7AC_9HZT",
        "colab": {
          "base_uri": "https://localhost:8080/",
          "height": 295
        },
        "outputId": "accf58e7-d07f-4d20-9d8d-060a23a30b05"
      },
      "source": [
        "plt.scatter(economy_arr_2018, happiness_arr_2018)\n",
        "plt.title(\"Relationship Between Economy (GDP per capita) and Happiness Score in 2018\")\n",
        "plt.xlabel(\"Economy (GDP per capita)\")\n",
        "plt.ylabel(\"Happiness Score\")\n",
        "plt.show()"
      ],
      "execution_count": null,
      "outputs": [
        {
          "output_type": "display_data",
          "data": {
            "image/png": "[encoded data removed]",
            "text/plain": [
              "<Figure size 432x288 with 1 Axes>"
            ]
          },
          "metadata": {
            "tags": [],
            "needs_background": "light"
          }
        }
      ]
    },
    {
      "cell_type": "markdown",
      "metadata": {
        "id": "GLa5eTwN9WQ2"
      },
      "source": [
        "We plotted scatterplots for visualizing the relationship between economy (GDP per capita) and happiness score for years 2015-2018 and then for only the year of 2018. It is apparent that there is a relatively strong, positive correlation between the two variables, supporting the earlier determined coefficients."
      ]
    },
    {
      "cell_type": "code",
      "metadata": {
        "id": "FShOveEm95gJ",
        "colab": {
          "base_uri": "https://localhost:8080/",
          "height": 295
        },
        "outputId": "8ed26795-b93a-4f81-ab45-6b5e042bf7a6"
      },
      "source": [
        "plt.scatter(social_support_arr, happiness_arr_2018)\n",
        "plt.title(\"Relationship Between Social Support and Happiness Score in 2018\")\n",
        "plt.xlabel(\"Social Support\")\n",
        "plt.ylabel(\"Happiness Score\")\n",
        "plt.show()"
      ],
      "execution_count": null,
      "outputs": [
        {
          "output_type": "display_data",
          "data": {
            "image/png": "[encoded data removed]",
            "text/plain": [
              "<Figure size 432x288 with 1 Axes>"
            ]
          },
          "metadata": {
            "tags": [],
            "needs_background": "light"
          }
        }
      ]
    },
    {
      "cell_type": "markdown",
      "metadata": {
        "id": "6Os4yU0KA5E7"
      },
      "source": [
        "We plotted a scatterplot for visualizing the relationship between social support and happiness score for the year of 2018. It is apparent that there is a relatively strong, positive correlation betweeen the two variables, but not as strong as the correlation between economy and happiness score, supporting the earlier determined coefficient."
      ]
    },
    {
      "cell_type": "code",
      "metadata": {
        "id": "_KgQyBEHCGyL",
        "colab": {
          "base_uri": "https://localhost:8080/",
          "height": 295
        },
        "outputId": "76c1c5a1-78b5-48ad-ccc9-ab66a3e6fa83"
      },
      "source": [
        "plt.scatter(health_arr, happiness_arr)\n",
        "plt.title(\"Relationship Between Health (Life Expectancy) and Happiness Score\")\n",
        "plt.xlabel(\"Life Expectancy\")\n",
        "plt.ylabel(\"Happiness Score\")\n",
        "plt.show()"
      ],
      "execution_count": null,
      "outputs": [
        {
          "output_type": "display_data",
          "data": {
            "image/png": "[encoded data removed]",
            "text/plain": [
              "<Figure size 432x288 with 1 Axes>"
            ]
          },
          "metadata": {
            "tags": [],
            "needs_background": "light"
          }
        }
      ]
    },
    {
      "cell_type": "code",
      "metadata": {
        "id": "whnu_NB7CIqo",
        "colab": {
          "base_uri": "https://localhost:8080/",
          "height": 295
        },
        "outputId": "ea97ad7a-5258-44f2-cc2b-5172e92e025d"
      },
      "source": [
        "plt.scatter(health_arr_2018, happiness_arr_2018)\n",
        "plt.title(\"Relationship Between Health (Life Expectancy) and Happiness Score in 2018\")\n",
        "plt.xlabel(\"Life Expectancy\")\n",
        "plt.ylabel(\"Happiness Score\")\n",
        "plt.show()"
      ],
      "execution_count": null,
      "outputs": [
        {
          "output_type": "display_data",
          "data": {
            "image/png": "[encoded data removed]",
            "text/plain": [
              "<Figure size 432x288 with 1 Axes>"
            ]
          },
          "metadata": {
            "tags": [],
            "needs_background": "light"
          }
        }
      ]
    },
    {
      "cell_type": "markdown",
      "metadata": {
        "id": "vUr7G2PiCa37"
      },
      "source": [
        "These two plots between health (life expectancy) and happiness score show strong, positive correlation as well, supporting the earlier determined coefficients."
      ]
    },
    {
      "cell_type": "code",
      "metadata": {
        "id": "QkMCvEK7EJ_Z",
        "colab": {
          "base_uri": "https://localhost:8080/",
          "height": 295
        },
        "outputId": "d127f5b5-b589-4801-ced7-6d8b6a3a1605"
      },
      "source": [
        "plt.scatter(freedom_arr, happiness_arr)\n",
        "plt.title(\"Relationship Between Freedom and Happiness Score\")\n",
        "plt.xlabel(\"Freedom\")\n",
        "plt.ylabel(\"Happiness Score\")\n",
        "plt.show()"
      ],
      "execution_count": null,
      "outputs": [
        {
          "output_type": "display_data",
          "data": {
            "image/png": "[encoded data removed]",
            "text/plain": [
              "<Figure size 432x288 with 1 Axes>"
            ]
          },
          "metadata": {
            "tags": [],
            "needs_background": "light"
          }
        }
      ]
    },
    {
      "cell_type": "code",
      "metadata": {
        "id": "ePj7GB4MCptZ",
        "colab": {
          "base_uri": "https://localhost:8080/",
          "height": 295
        },
        "outputId": "b6618bc4-afce-474f-c7ef-12b9d910582d"
      },
      "source": [
        "plt.scatter(freedom_arr_2018, happiness_arr_2018)\n",
        "plt.title(\"Relationship Between Freedom and Happiness Score in 2018\")\n",
        "plt.xlabel(\"Freedom\")\n",
        "plt.ylabel(\"Happiness Score\")\n",
        "plt.show()"
      ],
      "execution_count": null,
      "outputs": [
        {
          "output_type": "display_data",
          "data": {
            "image/png": "[encoded data removed]",
            "text/plain": [
              "<Figure size 432x288 with 1 Axes>"
            ]
          },
          "metadata": {
            "tags": [],
            "needs_background": "light"
          }
        }
      ]
    },
    {
      "cell_type": "markdown",
      "metadata": {
        "id": "XF3h0doeEZT4"
      },
      "source": [
        "The scatterplots visualizing the relationship between freedom and happiness score show positive correlation, but relatively weak correlation. This aligns with the earlier determined coefficients."
      ]
    },
    {
      "cell_type": "code",
      "metadata": {
        "id": "wvgG4gAyE1d_",
        "colab": {
          "base_uri": "https://localhost:8080/",
          "height": 295
        },
        "outputId": "8c5f5bff-53c9-4cb1-9834-83f435fced7d"
      },
      "source": [
        "plt.scatter(corruption_arr, happiness_arr_2018)\n",
        "plt.title(\"Relationship Between Perception of Corruption and Happiness Score in 2018\")\n",
        "plt.xlabel(\"Perception of Corruption\")\n",
        "plt.ylabel(\"Happiness Score\")\n",
        "plt.show()"
      ],
      "execution_count": null,
      "outputs": [
        {
          "output_type": "display_data",
          "data": {
            "image/png": "[encoded data removed]",
            "text/plain": [
              "<Figure size 432x288 with 1 Axes>"
            ]
          },
          "metadata": {
            "tags": [],
            "needs_background": "light"
          }
        }
      ]
    },
    {
      "cell_type": "markdown",
      "metadata": {
        "id": "4HjbMHqUFM0O"
      },
      "source": [
        "The above scatterplot visualizing the relationship between perception of corruption and happiness score shows relatively weak correlation."
      ]
    },
    {
      "cell_type": "code",
      "metadata": {
        "id": "Pn0QvTmcE1xf",
        "colab": {
          "base_uri": "https://localhost:8080/",
          "height": 295
        },
        "outputId": "e18377b9-15ab-430a-82f5-d7de59cf5e9e"
      },
      "source": [
        "plt.scatter(generosity_arr, happiness_arr)\n",
        "plt.title(\"Relationship Between Generosity and Happiness Score\")\n",
        "plt.xlabel(\"Generosity\")\n",
        "plt.ylabel(\"Happiness Score\")\n",
        "plt.show()"
      ],
      "execution_count": null,
      "outputs": [
        {
          "output_type": "display_data",
          "data": {
            "image/png": "[encoded data removed]",
            "text/plain": [
              "<Figure size 432x288 with 1 Axes>"
            ]
          },
          "metadata": {
            "tags": [],
            "needs_background": "light"
          }
        }
      ]
    },
    {
      "cell_type": "code",
      "metadata": {
        "id": "9BY6pipNFUVV",
        "colab": {
          "base_uri": "https://localhost:8080/",
          "height": 295
        },
        "outputId": "12169aa2-f479-417f-e1df-62be7b55f5fb"
      },
      "source": [
        "plt.scatter(generosity_arr_2018, happiness_arr_2018)\n",
        "plt.title(\"Relationship Between Generosity and Happiness Score in 2018\")\n",
        "plt.xlabel(\"Generosity\")\n",
        "plt.ylabel(\"Happiness Score\")\n",
        "plt.show()"
      ],
      "execution_count": null,
      "outputs": [
        {
          "output_type": "display_data",
          "data": {
            "image/png": "[encoded data removed]",
            "text/plain": [
              "<Figure size 432x288 with 1 Axes>"
            ]
          },
          "metadata": {
            "tags": [],
            "needs_background": "light"
          }
        }
      ]
    },
    {
      "cell_type": "markdown",
      "metadata": {
        "id": "TzQ_y0yDFjT9"
      },
      "source": [
        "The above scatterplots visualizing the relationship between generosity and happiness score show near zero correlation. The two variables are seemingly unrelated to each other."
      ]
    },
    {
      "cell_type": "markdown",
      "metadata": {
        "id": "0e2PTA_dfCp5"
      },
      "source": [
        "# Modeling and Question Answering"
      ]
    },
    {
      "cell_type": "markdown",
      "metadata": {
        "id": "Wpi-P6QYyWfl"
      },
      "source": [
        "We've elected to use only the 2018 dataset for the train as from comparing correlation values. The 2018 values mostly represent the 2015-2018 values, despite having a 1:1 ratio between train and test values. Also, a key factor to this decision involved two of the features: social support and perception of corruption are unique to the 2018 dataset."
      ]
    },
    {
      "cell_type": "code",
      "metadata": {
        "id": "uCDBisHnmndd",
        "colab": {
          "base_uri": "https://localhost:8080/",
          "height": 419
        },
        "outputId": "b60de2d5-a4a9-4c3d-f5aa-9f1d43ebe2bc"
      },
      "source": [
        "#drop overall rank and score\n",
        "\n",
        "#for some reason interpolating straight off the data works best\n",
        "train = pd.read_csv('2018.csv').interpolate(method = 'linear', limit_direction='forward') # train = train dataframe with interpolated data for NaN values\n",
        "train_overall_rank = train['Overall rank']\n",
        "train_score = train['Score']\n",
        "train = train.drop(columns=['Overall rank','Score'])\n",
        "train = train.drop(columns=['Country or region'])\n",
        "\n",
        "\n",
        "test = pd.read_csv('2019.csv').interpolate(method = 'linear', limit_direction='forward') # test = test dataframe with interpolated data for NaN values\n",
        "test_overall_rank = test['Overall rank']\n",
        "test_score = test['Score']\n",
        "test = test.drop(columns=['Overall rank','Score'])\n",
        "test = test.drop(columns=['Country or region'])\n",
        "train"
      ],
      "execution_count": null,
      "outputs": [
        {
          "output_type": "execute_result",
          "data": {
            "text/html": [
              "<div>\n",
              "<style scoped>\n",
              "    .dataframe tbody tr th:only-of-type {\n",
              "        vertical-align: middle;\n",
              "    }\n",
              "\n",
              "    .dataframe tbody tr th {\n",
              "        vertical-align: top;\n",
              "    }\n",
              "\n",
              "    .dataframe thead th {\n",
              "        text-align: right;\n",
              "    }\n",
              "</style>\n",
              "<table border=\"1\" class=\"dataframe\">\n",
              "  <thead>\n",
              "    <tr style=\"text-align: right;\">\n",
              "      <th></th>\n",
              "      <th>GDP per capita</th>\n",
              "      <th>Social support</th>\n",
              "      <th>Healthy life expectancy</th>\n",
              "      <th>Freedom to make life choices</th>\n",
              "      <th>Generosity</th>\n",
              "      <th>Perceptions of corruption</th>\n",
              "    </tr>\n",
              "  </thead>\n",
              "  <tbody>\n",
              "    <tr>\n",
              "      <th>0</th>\n",
              "      <td>1.305</td>\n",
              "      <td>1.592</td>\n",
              "      <td>0.874</td>\n",
              "      <td>0.681</td>\n",
              "      <td>0.202</td>\n",
              "      <td>0.393</td>\n",
              "    </tr>\n",
              "    <tr>\n",
              "      <th>1</th>\n",
              "      <td>1.456</td>\n",
              "      <td>1.582</td>\n",
              "      <td>0.861</td>\n",
              "      <td>0.686</td>\n",
              "      <td>0.286</td>\n",
              "      <td>0.340</td>\n",
              "    </tr>\n",
              "    <tr>\n",
              "      <th>2</th>\n",
              "      <td>1.351</td>\n",
              "      <td>1.590</td>\n",
              "      <td>0.868</td>\n",
              "      <td>0.683</td>\n",
              "      <td>0.284</td>\n",
              "      <td>0.408</td>\n",
              "    </tr>\n",
              "    <tr>\n",
              "      <th>3</th>\n",
              "      <td>1.343</td>\n",
              "      <td>1.644</td>\n",
              "      <td>0.914</td>\n",
              "      <td>0.677</td>\n",
              "      <td>0.353</td>\n",
              "      <td>0.138</td>\n",
              "    </tr>\n",
              "    <tr>\n",
              "      <th>4</th>\n",
              "      <td>1.420</td>\n",
              "      <td>1.549</td>\n",
              "      <td>0.927</td>\n",
              "      <td>0.660</td>\n",
              "      <td>0.256</td>\n",
              "      <td>0.357</td>\n",
              "    </tr>\n",
              "    <tr>\n",
              "      <th>...</th>\n",
              "      <td>...</td>\n",
              "      <td>...</td>\n",
              "      <td>...</td>\n",
              "      <td>...</td>\n",
              "      <td>...</td>\n",
              "      <td>...</td>\n",
              "    </tr>\n",
              "    <tr>\n",
              "      <th>151</th>\n",
              "      <td>0.442</td>\n",
              "      <td>1.073</td>\n",
              "      <td>0.343</td>\n",
              "      <td>0.244</td>\n",
              "      <td>0.083</td>\n",
              "      <td>0.064</td>\n",
              "    </tr>\n",
              "    <tr>\n",
              "      <th>152</th>\n",
              "      <td>0.455</td>\n",
              "      <td>0.991</td>\n",
              "      <td>0.381</td>\n",
              "      <td>0.481</td>\n",
              "      <td>0.270</td>\n",
              "      <td>0.097</td>\n",
              "    </tr>\n",
              "    <tr>\n",
              "      <th>153</th>\n",
              "      <td>0.337</td>\n",
              "      <td>0.608</td>\n",
              "      <td>0.177</td>\n",
              "      <td>0.112</td>\n",
              "      <td>0.224</td>\n",
              "      <td>0.106</td>\n",
              "    </tr>\n",
              "    <tr>\n",
              "      <th>154</th>\n",
              "      <td>0.024</td>\n",
              "      <td>0.000</td>\n",
              "      <td>0.010</td>\n",
              "      <td>0.305</td>\n",
              "      <td>0.218</td>\n",
              "      <td>0.038</td>\n",
              "    </tr>\n",
              "    <tr>\n",
              "      <th>155</th>\n",
              "      <td>0.091</td>\n",
              "      <td>0.627</td>\n",
              "      <td>0.145</td>\n",
              "      <td>0.065</td>\n",
              "      <td>0.149</td>\n",
              "      <td>0.076</td>\n",
              "    </tr>\n",
              "  </tbody>\n",
              "</table>\n",
              "<p>156 rows × 6 columns</p>\n",
              "</div>"
            ],
            "text/plain": [
              "     GDP per capita  Social support  ...  Generosity  Perceptions of corruption\n",
              "0             1.305           1.592  ...       0.202                      0.393\n",
              "1             1.456           1.582  ...       0.286                      0.340\n",
              "2             1.351           1.590  ...       0.284                      0.408\n",
              "3             1.343           1.644  ...       0.353                      0.138\n",
              "4             1.420           1.549  ...       0.256                      0.357\n",
              "..              ...             ...  ...         ...                        ...\n",
              "151           0.442           1.073  ...       0.083                      0.064\n",
              "152           0.455           0.991  ...       0.270                      0.097\n",
              "153           0.337           0.608  ...       0.224                      0.106\n",
              "154           0.024           0.000  ...       0.218                      0.038\n",
              "155           0.091           0.627  ...       0.149                      0.076\n",
              "\n",
              "[156 rows x 6 columns]"
            ]
          },
          "metadata": {
            "tags": []
          },
          "execution_count": 32
        }
      ]
    },
    {
      "cell_type": "markdown",
      "metadata": {
        "id": "1IvHlgE6-KWz"
      },
      "source": [
        "The 'Overall rank' and 'Score' columns were removed from both the train and test set in order to build a regression model capable of predicting the ranks & scores of 2019, based off of the train DataFrame. These were saved into variables, to train the regressions we used later.(Linear, K-Nearest Neighbors, Random Forest, and one we created ourselves) \n",
        "\n",
        "The 'Country or region' was also removed from both train and test, as we wanted to interpolate based off the statistics of a country, not the name of the country."
      ]
    },
    {
      "cell_type": "markdown",
      "metadata": {
        "id": "Cget1emkkkAb"
      },
      "source": [
        "##Linear Regression"
      ]
    },
    {
      "cell_type": "markdown",
      "metadata": {
        "id": "AJJ6ry1gDnSt"
      },
      "source": [
        "The first machine learning approach we chose to use is a linear regression model. Linear regression works by predicing a dependent variable based on a given independent variable, forming a linear model where the equation can be tweaked based on the slope and intercept of the line. The linear regression algorithm fits multiple lines on a set of data points and returns the line that produces the least error."
      ]
    },
    {
      "cell_type": "code",
      "metadata": {
        "id": "nbH-jEeeu48n",
        "colab": {
          "base_uri": "https://localhost:8080/",
          "height": 235
        },
        "outputId": "4efdda65-9ebf-4fee-f1c1-9c91a14e1914"
      },
      "source": [
        "linear_regressor = LinearRegression() # regressor for linear regression\n",
        "linear_regressor.fit(train, train_score)\n",
        "linear_coefficients_df = pd.DataFrame(linear_regressor.coef_, train.columns, columns=['Coefficients']) # linear_coefficients_df = dataframe containing coefficients for each feature\n",
        "linear_coefficients_df"
      ],
      "execution_count": null,
      "outputs": [
        {
          "output_type": "execute_result",
          "data": {
            "text/html": [
              "<div>\n",
              "<style scoped>\n",
              "    .dataframe tbody tr th:only-of-type {\n",
              "        vertical-align: middle;\n",
              "    }\n",
              "\n",
              "    .dataframe tbody tr th {\n",
              "        vertical-align: top;\n",
              "    }\n",
              "\n",
              "    .dataframe thead th {\n",
              "        text-align: right;\n",
              "    }\n",
              "</style>\n",
              "<table border=\"1\" class=\"dataframe\">\n",
              "  <thead>\n",
              "    <tr style=\"text-align: right;\">\n",
              "      <th></th>\n",
              "      <th>Coefficients</th>\n",
              "    </tr>\n",
              "  </thead>\n",
              "  <tbody>\n",
              "    <tr>\n",
              "      <th>GDP per capita</th>\n",
              "      <td>1.087139</td>\n",
              "    </tr>\n",
              "    <tr>\n",
              "      <th>Social support</th>\n",
              "      <td>1.014156</td>\n",
              "    </tr>\n",
              "    <tr>\n",
              "      <th>Healthy life expectancy</th>\n",
              "      <td>0.818309</td>\n",
              "    </tr>\n",
              "    <tr>\n",
              "      <th>Freedom to make life choices</th>\n",
              "      <td>1.364131</td>\n",
              "    </tr>\n",
              "    <tr>\n",
              "      <th>Generosity</th>\n",
              "      <td>0.570884</td>\n",
              "    </tr>\n",
              "    <tr>\n",
              "      <th>Perceptions of corruption</th>\n",
              "      <td>0.711905</td>\n",
              "    </tr>\n",
              "  </tbody>\n",
              "</table>\n",
              "</div>"
            ],
            "text/plain": [
              "                              Coefficients\n",
              "GDP per capita                    1.087139\n",
              "Social support                    1.014156\n",
              "Healthy life expectancy           0.818309\n",
              "Freedom to make life choices      1.364131\n",
              "Generosity                        0.570884\n",
              "Perceptions of corruption         0.711905"
            ]
          },
          "metadata": {
            "tags": []
          },
          "execution_count": 33
        }
      ]
    },
    {
      "cell_type": "markdown",
      "metadata": {
        "id": "TXxMaWkZDl63"
      },
      "source": [
        "As expected, 'GDP per capita', 'Healthy life expectancy' and 'Social support' were among the highest coefficients. Keeping in line with the Pearson correlation coefficients calculated before, these are the features that contributed most to a country's Happiness Score. 'Generosity' also kept in line with expectations from the calculated correlation coefficients, having the lowest coefficient here.\n",
        "\n",
        "Suprisingly, 'Freedom to make life choices' held the highest coefficient at 1.364131. This can be explained by the data values of that column, however. Because the data values held by that feature are so much lower than other columns like 'GDP per capita' and 'Social support' by nearly half, contributions by 'Freedom to make life choices' requires a higher coefficient in order to match the contributions of other columns. The smaller values combined with its mid-range correlation coefficient create a much higher coefficient than other features."
      ]
    },
    {
      "cell_type": "markdown",
      "metadata": {
        "id": "iGFnSHSd3jVn"
      },
      "source": [
        "### Statistics"
      ]
    },
    {
      "cell_type": "code",
      "metadata": {
        "id": "JqHxUeEseW8b",
        "colab": {
          "base_uri": "https://localhost:8080/",
          "height": 504
        },
        "outputId": "afe55365-46be-4891-d787-8075ab84caae"
      },
      "source": [
        "# printing statistics for the linear regression model\n",
        "linear_prediction_table = test_score.to_frame()\n",
        "linear_prediction_table['Predicted Score'] = linear_regressor.predict(test)\n",
        "\n",
        "print(\"Prediction Score: \", linear_regressor.score(test, test_score))\n",
        "print(\"Mean Absolute Error: \", mean_absolute_error(test_score, linear_prediction_table['Predicted Score']))\n",
        "print(\"Mean Squared Error: \", mean_squared_error(test_score, linear_prediction_table['Predicted Score']))\n",
        "print(\"Root Mean Squared Error\", np.sqrt(mean_squared_error(test_score, linear_prediction_table['Predicted Score'])))\n",
        "total_score = train_score.append(test_score)\n",
        "print(\"10% of mean\", 0.1 * np.mean(total_score))\n",
        "linear_prediction_table"
      ],
      "execution_count": null,
      "outputs": [
        {
          "output_type": "stream",
          "text": [
            "Prediction Score:  0.7757473968717049\n",
            "Mean Absolute Error:  0.42026591331437146\n",
            "Mean Squared Error:  0.2760758783079983\n",
            "Root Mean Squared Error 0.5254292324452441\n",
            "10% of mean 0.5391506410256411\n"
          ],
          "name": "stdout"
        },
        {
          "output_type": "execute_result",
          "data": {
            "text/html": [
              "<div>\n",
              "<style scoped>\n",
              "    .dataframe tbody tr th:only-of-type {\n",
              "        vertical-align: middle;\n",
              "    }\n",
              "\n",
              "    .dataframe tbody tr th {\n",
              "        vertical-align: top;\n",
              "    }\n",
              "\n",
              "    .dataframe thead th {\n",
              "        text-align: right;\n",
              "    }\n",
              "</style>\n",
              "<table border=\"1\" class=\"dataframe\">\n",
              "  <thead>\n",
              "    <tr style=\"text-align: right;\">\n",
              "      <th></th>\n",
              "      <th>Score</th>\n",
              "      <th>Predicted Score</th>\n",
              "    </tr>\n",
              "  </thead>\n",
              "  <tbody>\n",
              "    <tr>\n",
              "      <th>0</th>\n",
              "      <td>7.769</td>\n",
              "      <td>6.937533</td>\n",
              "    </tr>\n",
              "    <tr>\n",
              "      <th>1</th>\n",
              "      <td>7.600</td>\n",
              "      <td>7.041428</td>\n",
              "    </tr>\n",
              "    <tr>\n",
              "      <th>2</th>\n",
              "      <td>7.554</td>\n",
              "      <td>7.167621</td>\n",
              "    </tr>\n",
              "    <tr>\n",
              "      <th>3</th>\n",
              "      <td>7.494</td>\n",
              "      <td>6.963427</td>\n",
              "    </tr>\n",
              "    <tr>\n",
              "      <th>4</th>\n",
              "      <td>7.488</td>\n",
              "      <td>6.918778</td>\n",
              "    </tr>\n",
              "    <tr>\n",
              "      <th>...</th>\n",
              "      <td>...</td>\n",
              "      <td>...</td>\n",
              "    </tr>\n",
              "    <tr>\n",
              "      <th>151</th>\n",
              "      <td>3.334</td>\n",
              "      <td>4.671659</td>\n",
              "    </tr>\n",
              "    <tr>\n",
              "      <th>152</th>\n",
              "      <td>3.231</td>\n",
              "      <td>4.538701</td>\n",
              "    </tr>\n",
              "    <tr>\n",
              "      <th>153</th>\n",
              "      <td>3.203</td>\n",
              "      <td>3.192526</td>\n",
              "    </tr>\n",
              "    <tr>\n",
              "      <th>154</th>\n",
              "      <td>3.083</td>\n",
              "      <td>2.464494</td>\n",
              "    </tr>\n",
              "    <tr>\n",
              "      <th>155</th>\n",
              "      <td>2.853</td>\n",
              "      <td>3.235251</td>\n",
              "    </tr>\n",
              "  </tbody>\n",
              "</table>\n",
              "<p>156 rows × 2 columns</p>\n",
              "</div>"
            ],
            "text/plain": [
              "     Score  Predicted Score\n",
              "0    7.769         6.937533\n",
              "1    7.600         7.041428\n",
              "2    7.554         7.167621\n",
              "3    7.494         6.963427\n",
              "4    7.488         6.918778\n",
              "..     ...              ...\n",
              "151  3.334         4.671659\n",
              "152  3.231         4.538701\n",
              "153  3.203         3.192526\n",
              "154  3.083         2.464494\n",
              "155  2.853         3.235251\n",
              "\n",
              "[156 rows x 2 columns]"
            ]
          },
          "metadata": {
            "tags": []
          },
          "execution_count": 34
        }
      ]
    },
    {
      "cell_type": "markdown",
      "metadata": {
        "id": "nHwXKHb63n9k"
      },
      "source": [
        "The prediction score is around 78%, which means the model is decently accurate. The root mean squared error is only 0.5254292324452441, which is less than 10% of the mean happiness score of the two years, which means the linear regression model is a good predictor model for happiness scores."
      ]
    },
    {
      "cell_type": "markdown",
      "metadata": {
        "id": "__A-b025kmtA"
      },
      "source": [
        "##K-Nearest Neighbors Regression"
      ]
    },
    {
      "cell_type": "markdown",
      "metadata": {
        "id": "OdnPIqJ2I69X"
      },
      "source": [
        "The K-nearest neighbors (KNN) algorithm is a supervised machine learning algorithm, which means it requires labeled input data to generate a model that could be used to predict outputs when given unlabeled input. The KNN algorithm assumes that similar things exist close to each other. Thus, the KNN algorithm computes this similarity value by determining distance between points, Euclidean distance being a common method."
      ]
    },
    {
      "cell_type": "code",
      "metadata": {
        "id": "07uJ4FgTkqMt",
        "colab": {
          "base_uri": "https://localhost:8080/",
          "height": 68
        },
        "outputId": "24c15b12-5627-45c5-b6be-a42deea89f12"
      },
      "source": [
        "neigh_regressor = KNeighborsRegressor(n_neighbors=3) # regressor for K-Nearest Neighbors\n",
        "neigh_regressor.fit(train, train_score)"
      ],
      "execution_count": null,
      "outputs": [
        {
          "output_type": "execute_result",
          "data": {
            "text/plain": [
              "KNeighborsRegressor(algorithm='auto', leaf_size=30, metric='minkowski',\n",
              "                    metric_params=None, n_jobs=None, n_neighbors=3, p=2,\n",
              "                    weights='uniform')"
            ]
          },
          "metadata": {
            "tags": []
          },
          "execution_count": 35
        }
      ]
    },
    {
      "cell_type": "code",
      "metadata": {
        "id": "pceHmdg_uFOV",
        "colab": {
          "base_uri": "https://localhost:8080/",
          "height": 504
        },
        "outputId": "94a5468d-e02f-4a69-ba3b-a149d0ace56f"
      },
      "source": [
        "neigh_prediction_table = test_score.to_frame()\n",
        "neigh_prediction_table['Predicted Score'] = neigh_regressor.predict(test)\n",
        "\n",
        "print(\"Prediction Score: \", neigh_regressor.score(test, test_score))\n",
        "print(\"Mean Absolute Error: \", mean_absolute_error(test_score, neigh_prediction_table['Predicted Score']))\n",
        "print(\"Mean Squared Error: \", mean_squared_error(test_score, neigh_prediction_table['Predicted Score']))\n",
        "print(\"Root Mean Squared Error\", np.sqrt(mean_squared_error(test_score, neigh_prediction_table['Predicted Score'])))\n",
        "print(\"10% of mean\", 0.1 * np.mean(total_score))\n",
        "neigh_prediction_table"
      ],
      "execution_count": null,
      "outputs": [
        {
          "output_type": "stream",
          "text": [
            "Prediction Score:  0.8428777405272463\n",
            "Mean Absolute Error:  0.34787820512820505\n",
            "Mean Squared Error:  0.1934321616809116\n",
            "Root Mean Squared Error 0.4398092332829219\n",
            "10% of mean 0.5391506410256411\n"
          ],
          "name": "stdout"
        },
        {
          "output_type": "execute_result",
          "data": {
            "text/html": [
              "<div>\n",
              "<style scoped>\n",
              "    .dataframe tbody tr th:only-of-type {\n",
              "        vertical-align: middle;\n",
              "    }\n",
              "\n",
              "    .dataframe tbody tr th {\n",
              "        vertical-align: top;\n",
              "    }\n",
              "\n",
              "    .dataframe thead th {\n",
              "        text-align: right;\n",
              "    }\n",
              "</style>\n",
              "<table border=\"1\" class=\"dataframe\">\n",
              "  <thead>\n",
              "    <tr style=\"text-align: right;\">\n",
              "      <th></th>\n",
              "      <th>Score</th>\n",
              "      <th>Predicted Score</th>\n",
              "    </tr>\n",
              "  </thead>\n",
              "  <tbody>\n",
              "    <tr>\n",
              "      <th>0</th>\n",
              "      <td>7.769</td>\n",
              "      <td>7.477667</td>\n",
              "    </tr>\n",
              "    <tr>\n",
              "      <th>1</th>\n",
              "      <td>7.600</td>\n",
              "      <td>7.452000</td>\n",
              "    </tr>\n",
              "    <tr>\n",
              "      <th>2</th>\n",
              "      <td>7.554</td>\n",
              "      <td>6.935667</td>\n",
              "    </tr>\n",
              "    <tr>\n",
              "      <th>3</th>\n",
              "      <td>7.494</td>\n",
              "      <td>7.131333</td>\n",
              "    </tr>\n",
              "    <tr>\n",
              "      <th>4</th>\n",
              "      <td>7.488</td>\n",
              "      <td>7.347000</td>\n",
              "    </tr>\n",
              "    <tr>\n",
              "      <th>...</th>\n",
              "      <td>...</td>\n",
              "      <td>...</td>\n",
              "    </tr>\n",
              "    <tr>\n",
              "      <th>151</th>\n",
              "      <td>3.334</td>\n",
              "      <td>4.086000</td>\n",
              "    </tr>\n",
              "    <tr>\n",
              "      <th>152</th>\n",
              "      <td>3.231</td>\n",
              "      <td>4.021000</td>\n",
              "    </tr>\n",
              "    <tr>\n",
              "      <th>153</th>\n",
              "      <td>3.203</td>\n",
              "      <td>3.489333</td>\n",
              "    </tr>\n",
              "    <tr>\n",
              "      <th>154</th>\n",
              "      <td>3.083</td>\n",
              "      <td>3.741000</td>\n",
              "    </tr>\n",
              "    <tr>\n",
              "      <th>155</th>\n",
              "      <td>2.853</td>\n",
              "      <td>3.489333</td>\n",
              "    </tr>\n",
              "  </tbody>\n",
              "</table>\n",
              "<p>156 rows × 2 columns</p>\n",
              "</div>"
            ],
            "text/plain": [
              "     Score  Predicted Score\n",
              "0    7.769         7.477667\n",
              "1    7.600         7.452000\n",
              "2    7.554         6.935667\n",
              "3    7.494         7.131333\n",
              "4    7.488         7.347000\n",
              "..     ...              ...\n",
              "151  3.334         4.086000\n",
              "152  3.231         4.021000\n",
              "153  3.203         3.489333\n",
              "154  3.083         3.741000\n",
              "155  2.853         3.489333\n",
              "\n",
              "[156 rows x 2 columns]"
            ]
          },
          "metadata": {
            "tags": []
          },
          "execution_count": 36
        }
      ]
    },
    {
      "cell_type": "markdown",
      "metadata": {
        "id": "O9kx-bFMB5LD"
      },
      "source": [
        "The K-nearest neighbors model is even more accurate with a prediction score of 84% accuracy. The root mean squared error is much lower compared to the value calculated from the linear regressor."
      ]
    },
    {
      "cell_type": "markdown",
      "metadata": {
        "id": "qxcsRZZ7wD2P"
      },
      "source": [
        "##Random Forest Regression"
      ]
    },
    {
      "cell_type": "markdown",
      "metadata": {
        "id": "0eSNUw0pMKnF"
      },
      "source": [
        "Similar to the KNN algorithm, random forest is a supervised learning algorithm. It builds a \"forest\" out of a group of decision trees, usually trained with the \"bagging\" method, which improves stability and accuracy. The algorithm merges these decision trees to generate a prediction. The randomness occurs while generating the trees. The algorithm splits a node at the best feature out of a random subset of features.\n",
        "\n",
        "In this project, we're using 10 estimators."
      ]
    },
    {
      "cell_type": "code",
      "metadata": {
        "id": "nA8p1gAtwISx",
        "colab": {
          "base_uri": "https://localhost:8080/",
          "height": 504
        },
        "outputId": "896651af-c7a8-4083-f45d-0ba7df58dcc1"
      },
      "source": [
        "tree_regressor = RandomForestRegressor(n_estimators=10)\n",
        "tree_regressor.fit(train, train_score)\n",
        "tree_prediction_table = test_score.to_frame()\n",
        "tree_prediction_table['Predicted Score'] = tree_regressor.predict(test)\n",
        "\n",
        "print(\"Prediction Score: \", tree_regressor.score(test, test_score))\n",
        "print(\"Mean Absolute Error: \", mean_absolute_error(test_score, tree_prediction_table['Predicted Score']))\n",
        "print(\"Mean Squared Error: \", mean_squared_error(test_score, tree_prediction_table['Predicted Score']))\n",
        "print(\"Root Mean Squared Error\", np.sqrt(mean_squared_error(test_score, tree_prediction_table['Predicted Score'])))\n",
        "print(\"10% of mean\", 0.1 * np.mean(total_score))\n",
        "tree_prediction_table"
      ],
      "execution_count": null,
      "outputs": [
        {
          "output_type": "stream",
          "text": [
            "Prediction Score:  0.7449167047304706\n",
            "Mean Absolute Error:  0.4406737179487179\n",
            "Mean Squared Error:  0.3140313369871794\n",
            "Root Mean Squared Error 0.560384989973125\n",
            "10% of mean 0.5391506410256411\n"
          ],
          "name": "stdout"
        },
        {
          "output_type": "execute_result",
          "data": {
            "text/html": [
              "<div>\n",
              "<style scoped>\n",
              "    .dataframe tbody tr th:only-of-type {\n",
              "        vertical-align: middle;\n",
              "    }\n",
              "\n",
              "    .dataframe tbody tr th {\n",
              "        vertical-align: top;\n",
              "    }\n",
              "\n",
              "    .dataframe thead th {\n",
              "        text-align: right;\n",
              "    }\n",
              "</style>\n",
              "<table border=\"1\" class=\"dataframe\">\n",
              "  <thead>\n",
              "    <tr style=\"text-align: right;\">\n",
              "      <th></th>\n",
              "      <th>Score</th>\n",
              "      <th>Predicted Score</th>\n",
              "    </tr>\n",
              "  </thead>\n",
              "  <tbody>\n",
              "    <tr>\n",
              "      <th>0</th>\n",
              "      <td>7.769</td>\n",
              "      <td>6.8184</td>\n",
              "    </tr>\n",
              "    <tr>\n",
              "      <th>1</th>\n",
              "      <td>7.600</td>\n",
              "      <td>6.8120</td>\n",
              "    </tr>\n",
              "    <tr>\n",
              "      <th>2</th>\n",
              "      <td>7.554</td>\n",
              "      <td>6.2986</td>\n",
              "    </tr>\n",
              "    <tr>\n",
              "      <th>3</th>\n",
              "      <td>7.494</td>\n",
              "      <td>6.2484</td>\n",
              "    </tr>\n",
              "    <tr>\n",
              "      <th>4</th>\n",
              "      <td>7.488</td>\n",
              "      <td>6.6952</td>\n",
              "    </tr>\n",
              "    <tr>\n",
              "      <th>...</th>\n",
              "      <td>...</td>\n",
              "      <td>...</td>\n",
              "    </tr>\n",
              "    <tr>\n",
              "      <th>151</th>\n",
              "      <td>3.334</td>\n",
              "      <td>4.6157</td>\n",
              "    </tr>\n",
              "    <tr>\n",
              "      <th>152</th>\n",
              "      <td>3.231</td>\n",
              "      <td>4.5021</td>\n",
              "    </tr>\n",
              "    <tr>\n",
              "      <th>153</th>\n",
              "      <td>3.203</td>\n",
              "      <td>3.7470</td>\n",
              "    </tr>\n",
              "    <tr>\n",
              "      <th>154</th>\n",
              "      <td>3.083</td>\n",
              "      <td>3.6653</td>\n",
              "    </tr>\n",
              "    <tr>\n",
              "      <th>155</th>\n",
              "      <td>2.853</td>\n",
              "      <td>3.6234</td>\n",
              "    </tr>\n",
              "  </tbody>\n",
              "</table>\n",
              "<p>156 rows × 2 columns</p>\n",
              "</div>"
            ],
            "text/plain": [
              "     Score  Predicted Score\n",
              "0    7.769           6.8184\n",
              "1    7.600           6.8120\n",
              "2    7.554           6.2986\n",
              "3    7.494           6.2484\n",
              "4    7.488           6.6952\n",
              "..     ...              ...\n",
              "151  3.334           4.6157\n",
              "152  3.231           4.5021\n",
              "153  3.203           3.7470\n",
              "154  3.083           3.6653\n",
              "155  2.853           3.6234\n",
              "\n",
              "[156 rows x 2 columns]"
            ]
          },
          "metadata": {
            "tags": []
          },
          "execution_count": 37
        }
      ]
    },
    {
      "cell_type": "markdown",
      "metadata": {
        "id": "unRZ9nV7C-8m"
      },
      "source": [
        "While the random forest model is not as accurate (prediction accuracy around 78% and root mean squared error of 0.5171610512284275) as the K-nearest neighbors model, it is more accurate than the linear regression model."
      ]
    },
    {
      "cell_type": "markdown",
      "metadata": {
        "id": "TI4uaUKQNoSf"
      },
      "source": [
        "## Custom Formula"
      ]
    },
    {
      "cell_type": "markdown",
      "metadata": {
        "id": "G8SgziXtNsDY"
      },
      "source": [
        "For the custom formula, despite being the most inaccurate model, we decided to base it off the linear regression model only because the features that contribute the most to happiness score is most visible in the model, mainly due to the coefficients. As such, it is easy to tweak the model to produce more accurate results, either by removing features that seemingly contribute little or placing more emphasis on features that contribute more. We chose to use the four features that seemingly held the most weight in happiness scores: GDP per capita, social support, healthy life expectancy, and freedom."
      ]
    },
    {
      "cell_type": "code",
      "metadata": {
        "id": "0W-czeBINkPe",
        "colab": {
          "base_uri": "https://localhost:8080/",
          "height": 190
        },
        "outputId": "03e738be-6bde-4c5a-fbdb-174510c4af6e"
      },
      "source": [
        "custom_cols = [\"GDP per capita\", \"Social support\", \"Healthy life expectancy\", \"Freedom to make life choices\"]\n",
        "train_custom = train[custom_cols]\n",
        "test_custom = test[custom_cols]\n",
        "\n",
        "linear_regressor_custom = LinearRegression() # regressor for custom linear regression\n",
        "linear_regressor_custom.fit(train_custom, train_score)\n",
        "print(\"Intercept: \", linear_regressor_custom.intercept_)\n",
        "linear_coefficients_custom = pd.DataFrame(linear_regressor_custom.coef_, train_custom.columns, columns=['Coefficients'])\n",
        "linear_coefficients_custom"
      ],
      "execution_count": null,
      "outputs": [
        {
          "output_type": "stream",
          "text": [
            "Intercept:  1.9547135461346277\n"
          ],
          "name": "stdout"
        },
        {
          "output_type": "execute_result",
          "data": {
            "text/html": [
              "<div>\n",
              "<style scoped>\n",
              "    .dataframe tbody tr th:only-of-type {\n",
              "        vertical-align: middle;\n",
              "    }\n",
              "\n",
              "    .dataframe tbody tr th {\n",
              "        vertical-align: top;\n",
              "    }\n",
              "\n",
              "    .dataframe thead th {\n",
              "        text-align: right;\n",
              "    }\n",
              "</style>\n",
              "<table border=\"1\" class=\"dataframe\">\n",
              "  <thead>\n",
              "    <tr style=\"text-align: right;\">\n",
              "      <th></th>\n",
              "      <th>Coefficients</th>\n",
              "    </tr>\n",
              "  </thead>\n",
              "  <tbody>\n",
              "    <tr>\n",
              "      <th>GDP per capita</th>\n",
              "      <td>1.105358</td>\n",
              "    </tr>\n",
              "    <tr>\n",
              "      <th>Social support</th>\n",
              "      <td>0.961268</td>\n",
              "    </tr>\n",
              "    <tr>\n",
              "      <th>Healthy life expectancy</th>\n",
              "      <td>0.859328</td>\n",
              "    </tr>\n",
              "    <tr>\n",
              "      <th>Freedom to make life choices</th>\n",
              "      <td>1.663938</td>\n",
              "    </tr>\n",
              "  </tbody>\n",
              "</table>\n",
              "</div>"
            ],
            "text/plain": [
              "                              Coefficients\n",
              "GDP per capita                    1.105358\n",
              "Social support                    0.961268\n",
              "Healthy life expectancy           0.859328\n",
              "Freedom to make life choices      1.663938"
            ]
          },
          "metadata": {
            "tags": []
          },
          "execution_count": 62
        }
      ]
    },
    {
      "cell_type": "code",
      "metadata": {
        "id": "DLV-fryVQ0vf",
        "colab": {
          "base_uri": "https://localhost:8080/",
          "height": 555
        },
        "outputId": "17464327-b0fe-4887-fce9-dd2db75442f5"
      },
      "source": [
        "linear_prediction_table_custom = test_score.to_frame()\n",
        "linear_prediction_table_custom['Predicted Score'] = linear_regressor_custom.predict(test_custom)\n",
        "\n",
        "print(\"Prediction Score: \", linear_regressor_custom.score(test_custom, test_score))\n",
        "print(\"Mean Absolute Error: \", mean_absolute_error(test_score, linear_prediction_table_custom['Predicted Score']))\n",
        "print(\"Mean Squared Error: \", mean_squared_error(test_score, linear_prediction_table_custom['Predicted Score']))\n",
        "print(\"Root Mean Squared Error\", np.sqrt(mean_squared_error(test_score, linear_prediction_table_custom['Predicted Score'])))\n",
        "print(\"10% of mean\", 0.1 * np.mean(total_score))\n",
        "print(\"\\n\")\n",
        "print(\"Formula Derived From Linear Regression: Happiness score = 1.105358(GDP per capita) + 0.961268(Social support) + 0.859328(Healthy life expectancy) + 1.663938(Freedom) + 1.9547135461346277\")\n",
        "linear_prediction_table_custom"
      ],
      "execution_count": null,
      "outputs": [
        {
          "output_type": "stream",
          "text": [
            "Prediction Score:  0.7674330197796623\n",
            "Mean Absolute Error:  0.43251935424203736\n",
            "Mean Squared Error:  0.2863116522800686\n",
            "Root Mean Squared Error 0.5350809773109755\n",
            "10% of mean 0.5391506410256411\n",
            "\n",
            "\n",
            "Formula Derived From Linear Regression: Happiness score = 1.105358(GDP per capita) + 0.961268(Social support) + 0.859328(Healthy life expectancy) + 1.663938(Freedom) + 1.9547135461346277\n"
          ],
          "name": "stdout"
        },
        {
          "output_type": "execute_result",
          "data": {
            "text/html": [
              "<div>\n",
              "<style scoped>\n",
              "    .dataframe tbody tr th:only-of-type {\n",
              "        vertical-align: middle;\n",
              "    }\n",
              "\n",
              "    .dataframe tbody tr th {\n",
              "        vertical-align: top;\n",
              "    }\n",
              "\n",
              "    .dataframe thead th {\n",
              "        text-align: right;\n",
              "    }\n",
              "</style>\n",
              "<table border=\"1\" class=\"dataframe\">\n",
              "  <thead>\n",
              "    <tr style=\"text-align: right;\">\n",
              "      <th></th>\n",
              "      <th>Score</th>\n",
              "      <th>Predicted Score</th>\n",
              "    </tr>\n",
              "  </thead>\n",
              "  <tbody>\n",
              "    <tr>\n",
              "      <th>0</th>\n",
              "      <td>7.769</td>\n",
              "      <td>6.800430</td>\n",
              "    </tr>\n",
              "    <tr>\n",
              "      <th>1</th>\n",
              "      <td>7.600</td>\n",
              "      <td>6.836441</td>\n",
              "    </tr>\n",
              "    <tr>\n",
              "      <th>2</th>\n",
              "      <td>7.554</td>\n",
              "      <td>7.006957</td>\n",
              "    </tr>\n",
              "    <tr>\n",
              "      <th>3</th>\n",
              "      <td>7.494</td>\n",
              "      <td>6.906265</td>\n",
              "    </tr>\n",
              "    <tr>\n",
              "      <th>4</th>\n",
              "      <td>7.488</td>\n",
              "      <td>6.746126</td>\n",
              "    </tr>\n",
              "    <tr>\n",
              "      <th>...</th>\n",
              "      <td>...</td>\n",
              "      <td>...</td>\n",
              "    </tr>\n",
              "    <tr>\n",
              "      <th>151</th>\n",
              "      <td>3.334</td>\n",
              "      <td>4.486112</td>\n",
              "    </tr>\n",
              "    <tr>\n",
              "      <th>152</th>\n",
              "      <td>3.231</td>\n",
              "      <td>4.454253</td>\n",
              "    </tr>\n",
              "    <tr>\n",
              "      <th>153</th>\n",
              "      <td>3.203</td>\n",
              "      <td>3.148782</td>\n",
              "    </tr>\n",
              "    <tr>\n",
              "      <th>154</th>\n",
              "      <td>3.083</td>\n",
              "      <td>2.448068</td>\n",
              "    </tr>\n",
              "    <tr>\n",
              "      <th>155</th>\n",
              "      <td>2.853</td>\n",
              "      <td>3.115823</td>\n",
              "    </tr>\n",
              "  </tbody>\n",
              "</table>\n",
              "<p>156 rows × 2 columns</p>\n",
              "</div>"
            ],
            "text/plain": [
              "     Score  Predicted Score\n",
              "0    7.769         6.800430\n",
              "1    7.600         6.836441\n",
              "2    7.554         7.006957\n",
              "3    7.494         6.906265\n",
              "4    7.488         6.746126\n",
              "..     ...              ...\n",
              "151  3.334         4.486112\n",
              "152  3.231         4.454253\n",
              "153  3.203         3.148782\n",
              "154  3.083         2.448068\n",
              "155  2.853         3.115823\n",
              "\n",
              "[156 rows x 2 columns]"
            ]
          },
          "metadata": {
            "tags": []
          },
          "execution_count": 63
        }
      ]
    },
    {
      "cell_type": "markdown",
      "metadata": {
        "id": "7UAFyEAKY9Ke"
      },
      "source": [
        "After performing a variation of the previous linear regression on the four features we found to be the most vital for happiness, we realized removing the other two features completely actually produced slighly more error. Despite the higher error, the model is still fairly accurate with about 77% prediction accuracy and a root mean squared error that is less than 10% of the mean. The formula we invented makes use of the coefficients and intercept of the linear regression model: "
      ]
    },
    {
      "cell_type": "markdown",
      "metadata": {
        "id": "OcGWzLUPaCeS"
      },
      "source": [
        "Happiness score = 1.105358(GDP per capita) + 0.961268(Social support) + 0.859328(Healthy life expectancy) + 1.663938(Freedom) + 1.9547135461346277"
      ]
    },
    {
      "cell_type": "markdown",
      "metadata": {
        "id": "3QlxApQ9Nns3"
      },
      "source": [
        "##Analysis\n",
        "\n",
        "K-Nearest Neighbors regression proved to be the most accurate and the best regression, having the highest Prediction score, the lowest mean absolute error, mean squared error, and Root MSE. Random Forest regression and Linear Regression were very close in their performance, with Random Forest slightly edging out the Linear Regression in accuracy."
      ]
    }
  ]
}